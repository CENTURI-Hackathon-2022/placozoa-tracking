{
 "cells": [
  {
   "cell_type": "markdown",
   "id": "97c58cf2",
   "metadata": {},
   "source": [
    "## calculate vector fields to display in napari"
   ]
  },
  {
   "cell_type": "code",
   "execution_count": 34,
   "id": "a76c1bfd",
   "metadata": {},
   "outputs": [],
   "source": [
    "def optical_flow_vector_field(path_in, path_out, starting_time = 0,  time_displacement = 1):\n",
    "        \n",
    "    from tifffile import imread, imwrite\n",
    "    from pathlib import Path\n",
    "    import numpy as np\n",
    "    from skimage.registration import optical_flow_ilk\n",
    "\n",
    "    \n",
    "    path_in = Path(path_in)\n",
    "    path_out = Path(path_out)\n",
    "    \n",
    "    #load raw image\n",
    "    image = imread(path_in)\n",
    "    \n",
    "    #subset time points\n",
    "    im_t1 = image[starting_time,:,:]\n",
    "    im_t2 = image[starting_time + time_displacement,:,:]\n",
    "    \n",
    "    # --- Compute the optical flow\n",
    "    v, u = optical_flow_ilk(im_t1, im_t2, radius=15)\n",
    "\n",
    "    # --- Compute flow magnitude\n",
    "    norm = np.sqrt(u ** 2 + v ** 2)\n",
    "    \n",
    "    nvec = 20  # Number of vectors to be displayed along each image dimension\n",
    "\n",
    "    nl, nc = im_t1.shape\n",
    "    step = max(nl//nvec, nc//nvec)\n",
    "    \n",
    "    y, x = np.mgrid[:nl:step, :nc:step]\n",
    "    u_ = u[::step, ::step]\n",
    "    v_ = v[::step, ::step]\n",
    "    \n",
    "    vectors = np.zeros((y.shape[0]*y.shape[0], 2, 2), dtype=np.float32)\n",
    "\n",
    "\n",
    "    for vec1 in reversed(range(0, y.shape[0])):\n",
    "        for vec2 in reversed(range(0, y.shape[0])):\n",
    "            vector_id = vec1 + 20 * vec2\n",
    "            vectors[vector_id, 0, 1] = x[vec2, vec1]\n",
    "            vectors[vector_id, 0, 0] = y[vec2, vec1]\n",
    "            vectors[vector_id, 1, 1] = u_[vec2, vec1]\n",
    "            vectors[vector_id, 1, 0] = v_[vec2, vec1]\n",
    "        \n",
    "    #imwrite(path_out, vectors)\n",
    "        \n",
    "    return im_t1, norm, vectors "
   ]
  },
  {
   "cell_type": "code",
   "execution_count": 37,
   "id": "c265e9c5",
   "metadata": {},
   "outputs": [],
   "source": [
    "path_in = '../../data/placozoan-movie.tif'\n",
    "path_out = '../../data/placozoan_vector.tif'\n",
    "\n",
    "im_t1, norm, vectors = optical_flow_vector_field(path_in, path_out, 50, 5)\n",
    "\n",
    "viewer = Viewer()\n",
    "viewer.add_image(im_t1)\n",
    "viewer.add_image(norm, colormap = 'viridis')\n",
    "layer = viewer.add_vectors(vectors)\n"
   ]
  },
  {
   "cell_type": "code",
   "execution_count": null,
   "id": "451ae6fc",
   "metadata": {},
   "outputs": [],
   "source": []
  }
 ],
 "metadata": {
  "kernelspec": {
   "display_name": "Python 3",
   "language": "python",
   "name": "python3"
  },
  "language_info": {
   "codemirror_mode": {
    "name": "ipython",
    "version": 3
   },
   "file_extension": ".py",
   "mimetype": "text/x-python",
   "name": "python",
   "nbconvert_exporter": "python",
   "pygments_lexer": "ipython3",
   "version": "3.7.10"
  }
 },
 "nbformat": 4,
 "nbformat_minor": 5
}
