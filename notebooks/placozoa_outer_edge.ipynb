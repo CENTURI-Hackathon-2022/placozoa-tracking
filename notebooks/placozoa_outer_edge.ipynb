{
 "cells": [
  {
   "cell_type": "code",
   "execution_count": 5,
   "id": "805eae07",
   "metadata": {},
   "outputs": [
    {
     "name": "stderr",
     "output_type": "stream",
     "text": [
      "/var/folders/hy/gn11hblx0vd2f31kv2nh957m3sym46/T/ipykernel_4270/3840507732.py:10: DeprecationWarning: Please use `binary_fill_holes` from the `scipy.ndimage` namespace, the `scipy.ndimage.morphology` namespace is deprecated.\n",
      "  from scipy.ndimage.morphology import binary_fill_holes\n"
     ]
    }
   ],
   "source": [
    "from tifffile import imread, imwrite\n",
    "import matplotlib.pyplot as plt\n",
    "import scipy.ndimage as nd\n",
    "from napari import Viewer\n",
    "from pathlib import Path\n",
    "from skimage import filters\n",
    "from skimage.morphology import disk\n",
    "import numpy as np\n",
    "import morphsnakes as ms\n",
    "from scipy.ndimage.morphology import binary_fill_holes\n",
    "from skimage.filters import rank"
   ]
  },
  {
   "cell_type": "code",
   "execution_count": 2,
   "id": "5eb3e9ce",
   "metadata": {},
   "outputs": [],
   "source": [
    "path = Path('../../data/placozoan-movie.tif')\n",
    "im = imread(path)"
   ]
  },
  {
   "cell_type": "code",
   "execution_count": 3,
   "id": "9f25daf8",
   "metadata": {},
   "outputs": [],
   "source": [
    "def find_outer_edge(image): \n",
    "    \n",
    "    output_array = np.zeros(image.shape)\n",
    "    \n",
    "    for t in range(0,image.shape[0]):\n",
    "\n",
    "        im_single_t = im[t,:,:]\n",
    "        im_filtered_minimum =  rank.minimum(im_single_t, disk(4))\n",
    "        im_ms = ms.morphological_chan_vese(im_filtered_minimum, 10)\n",
    "        ms_filled = binary_fill_holes(im_ms)\n",
    "\n",
    "        #detect if its is segmented the right way around (expecting that the background has most area touching the image border)\n",
    "        #otherwise invert the image\n",
    "        amount_edge_false = ms_filled[ms_filled[0,:] == False].shape[0] + ms_filled[ms_filled[-1,:] == False].shape[0] + ms_filled[ms_filled[:,0] == False].shape[0] + ms_filled[ms_filled[:,-1] == False].shape[0]\n",
    "        amount_edge_true = ms_filled[ms_filled[0,:] == True].shape[0] + ms_filled[ms_filled[-1,:] == True].shape[0] + ms_filled[ms_filled[:,0] == True].shape[0] + ms_filled[ms_filled[:,-1] == True].shape[0]\n",
    "        if amount_edge_true < amount_edge_false:\n",
    "            pass\n",
    "        else:\n",
    "            ms_filled = np.invert(ms_filled) \n",
    "        \n",
    "        #label connected components in the binary mask\n",
    "        labels, num_features = nd.label(ms_filled)\n",
    "        label_unique = np.unique(labels)\n",
    "\n",
    "        #count pixels of each component and sort them by size, excluding the background\n",
    "        vol_list = []\n",
    "        for label in label_unique:\n",
    "            if label != 0:\n",
    "                vol_list.append(np.count_nonzero(labels == label))\n",
    "        \n",
    "        #create binary array of only the largest component\n",
    "        binary_mask = np.zeros(labels.shape)\n",
    "        binary_mask = np.where(labels == vol_list.index(max(vol_list))+1, 1, 0)\n",
    "        \n",
    "        output_array[t,:,:] = binary_mask\n",
    "    \n",
    "    return output_array"
   ]
  },
  {
   "cell_type": "code",
   "execution_count": 6,
   "id": "a5594ee8",
   "metadata": {},
   "outputs": [],
   "source": [
    "outer_edge = find_outer_edge(im)"
   ]
  },
  {
   "cell_type": "code",
   "execution_count": 7,
   "id": "383b1761",
   "metadata": {},
   "outputs": [
    {
     "data": {
      "text/plain": [
       "<Image layer 'outer_edge' at 0x1e84a89a0>"
      ]
     },
     "execution_count": 7,
     "metadata": {},
     "output_type": "execute_result"
    }
   ],
   "source": [
    "viewer = Viewer()\n",
    "viewer.add_image(im)\n",
    "viewer.add_image(outer_edge)"
   ]
  },
  {
   "cell_type": "code",
   "execution_count": null,
   "id": "343344bf",
   "metadata": {},
   "outputs": [],
   "source": []
  }
 ],
 "metadata": {
  "kernelspec": {
   "display_name": "Python 3 (ipykernel)",
   "language": "python",
   "name": "python3"
  },
  "language_info": {
   "codemirror_mode": {
    "name": "ipython",
    "version": 3
   },
   "file_extension": ".py",
   "mimetype": "text/x-python",
   "name": "python",
   "nbconvert_exporter": "python",
   "pygments_lexer": "ipython3",
   "version": "3.10.5"
  }
 },
 "nbformat": 4,
 "nbformat_minor": 5
}
