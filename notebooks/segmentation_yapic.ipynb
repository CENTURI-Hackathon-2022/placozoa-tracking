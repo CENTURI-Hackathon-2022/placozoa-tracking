{
 "cells": [
  {
   "cell_type": "markdown",
   "metadata": {},
   "source": [
    "# Segmentation using pretrained YAPIC model\n",
    "\n",
    "Explanation to do\n",
    "\n",
    "Definitions:\n",
    "- `input` we talk about the raw image that must be segmented.\n",
    "- `output` we talk about the mask image that is the segmentation of the `input`\n",
    "- `model` is the YAPIC model that has been trained previously. One example can be download [here](todo)"
   ]
  },
  {
   "cell_type": "markdown",
   "metadata": {},
   "source": [
    "## Imports"
   ]
  },
  {
   "cell_type": "code",
   "execution_count": 3,
   "metadata": {},
   "outputs": [],
   "source": [
    "from placozoan.base_segmentation import YAPIC\n",
    "from placozoan.utils import load_params, load_tiff, save_tiff\n",
    "from pathlib import Path\n",
    "from napari import Viewer"
   ]
  },
  {
   "cell_type": "markdown",
   "metadata": {},
   "source": [
    "## Load Parameters for the segmentation\n",
    "You need to tune parameters to adapt the segmentor to your image.\n",
    "Please check the `param_path` where every necessary parameters are stored for YOU to change."
   ]
  },
  {
   "cell_type": "code",
   "execution_count": null,
   "metadata": {},
   "outputs": [],
   "source": [
    "# load params\n",
    "\n",
    "param_path = Path('../parameters/default_YAPIC.yml')\n",
    "params = load_params(param_path)"
   ]
  },
  {
   "cell_type": "markdown",
   "metadata": {},
   "source": [
    "## Load Image\n",
    "For the demo, only the 10 first image are taken"
   ]
  },
  {
   "cell_type": "code",
   "execution_count": null,
   "metadata": {},
   "outputs": [],
   "source": [
    "# load image\n",
    "\n",
    "im_path = Path(params[\"input\"][\"path\"])\n",
    "im_axes = params[\"input\"][\"axes\"]\n",
    "im = load_tiff(im_path, im_axes)[:10] # take only a slice of the image for demo"
   ]
  },
  {
   "cell_type": "markdown",
   "metadata": {},
   "source": [
    "## Run the Segmentation"
   ]
  },
  {
   "cell_type": "code",
   "execution_count": null,
   "metadata": {},
   "outputs": [],
   "source": [
    "segmentator_params = params[\"yapic\"]\n",
    "segmentator = YAPIC(im, params=segmentator_params)\n",
    "mask = segmentator.get_segmentation()"
   ]
  },
  {
   "cell_type": "markdown",
   "metadata": {},
   "source": [
    "## Save the Segmentation result"
   ]
  },
  {
   "cell_type": "code",
   "execution_count": null,
   "metadata": {},
   "outputs": [],
   "source": [
    "output_path = Path(params[\"output\"][\"path\"])\n",
    "output_axes = params[\"output\"][\"axes\"]\n",
    "save_tiff(output_path, mask, output_axes)"
   ]
  },
  {
   "cell_type": "markdown",
   "metadata": {},
   "source": [
    "The mask is saved at `output_path`. You can open it with your favorite image viewer (Napari, ImageJ, Imaris, ...)\n",
    "The following section propose you pythonic way to visualize the input and output images"
   ]
  },
  {
   "cell_type": "markdown",
   "metadata": {},
   "source": [
    "# Matplotlib Viewer"
   ]
  },
  {
   "cell_type": "code",
   "execution_count": null,
   "metadata": {},
   "outputs": [],
   "source": [
    "import matplotlib.pyplot as plt"
   ]
  },
  {
   "cell_type": "code",
   "execution_count": null,
   "metadata": {},
   "outputs": [],
   "source": [
    "nb_time_points = len(im)\n",
    "\n",
    "fig, axes = plt.subplots(2, 2, figsize=(10, 10), subplot_kw={'aspect':1}, sharex=True, sharey=True)\n",
    "axes = axes.flatten()\n",
    "for i, ax in enumerate(axes):\n",
    "    tp = i*(nb_time_points-1)//(len(axes)-1)\n",
    "    if i // 2 == 0:\n",
    "        ax.imshow(im[tp, ...], vmin=10, vmax=100)\n",
    "    else:\n",
    "        ax.imshow(mask[tp, ...])\n",
    "    ax.set_xticks([])\n",
    "    ax.set_yticks([])\n",
    "    ax.set_title(f'Time point {tp}')\n",
    "fig.tight_layout()"
   ]
  },
  {
   "cell_type": "markdown",
   "metadata": {},
   "source": [
    "# Napari Viewer"
   ]
  },
  {
   "cell_type": "code",
   "execution_count": null,
   "metadata": {},
   "outputs": [],
   "source": [
    "viewer = Viewer()"
   ]
  },
  {
   "cell_type": "code",
   "execution_count": null,
   "metadata": {},
   "outputs": [],
   "source": [
    "im_layer = viewer.add_image(im)\n",
    "mask_layer = viewer.add_labels(mask)"
   ]
  },
  {
   "cell_type": "code",
   "execution_count": null,
   "metadata": {},
   "outputs": [],
   "source": [
    "# if you want to save the manually corrected mask run this cell\n",
    "mask_corrected = mask_layer.data\n",
    "output_path = Path(params[\"output\"][\"path\"])\n",
    "output_axes = params[\"output\"][\"axes\"]\n",
    "save_tiff(output_path, mask, output_axes)"
   ]
  }
 ],
 "metadata": {
  "kernelspec": {
   "display_name": "Python 3.10.4 ('placozoa2')",
   "language": "python",
   "name": "python3"
  },
  "language_info": {
   "codemirror_mode": {
    "name": "ipython",
    "version": 3
   },
   "file_extension": ".py",
   "mimetype": "text/x-python",
   "name": "python",
   "nbconvert_exporter": "python",
   "pygments_lexer": "ipython3",
   "version": "3.10.4"
  },
  "orig_nbformat": 4,
  "vscode": {
   "interpreter": {
    "hash": "aa58fafd1f70bf561ce8760c93e0c4bbf700c7f6c7f3e37cbda10e6ab2c66cad"
   }
  }
 },
 "nbformat": 4,
 "nbformat_minor": 2
}
