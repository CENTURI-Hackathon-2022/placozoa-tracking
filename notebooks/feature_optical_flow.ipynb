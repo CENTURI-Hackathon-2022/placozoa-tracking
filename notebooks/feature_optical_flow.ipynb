{
 "cells": [
  {
   "cell_type": "code",
   "execution_count": 1,
   "metadata": {},
   "outputs": [],
   "source": [
    "import napari"
   ]
  },
  {
   "cell_type": "code",
   "execution_count": 2,
   "metadata": {},
   "outputs": [],
   "source": [
    "# create the viewer and window\n",
    "viewer = napari.Viewer()"
   ]
  },
  {
   "cell_type": "code",
   "execution_count": 3,
   "metadata": {},
   "outputs": [],
   "source": [
    "import numpy as np\n",
    "\n",
    "def unit_vector(vector):\n",
    "    \"\"\" Returns the unit vector of the vector.  \"\"\"\n",
    "    return vector / np.linalg.norm(vector)\n",
    "\n",
    "def signed_angle_between(v1, v2):\n",
    "    \"\"\" Returns the angle in radians between vectors 'v1' and 'v2'::\n",
    "\n",
    "            >>> angle_between((1, 0, 0), (0, 1, 0))\n",
    "            1.5707963267948966\n",
    "            >>> angle_between((1, 0, 0), (1, 0, 0))\n",
    "            0.0\n",
    "            >>> angle_between((1, 0, 0), (-1, 0, 0))\n",
    "            3.141592653589793\n",
    "    \"\"\"\n",
    "    v1_u = unit_vector(v1)\n",
    "    v2_u = unit_vector(v2)\n",
    "    signed = 1\n",
    "    if v1_u[0]*v2_u[1] - v1_u[1]*v2_u[0] < 0: \n",
    "        signed = -1\n",
    "    return signed * np.arccos(np.clip(np.dot(v1_u, v2_u), -1.0, 1.0))\n",
    "\n",
    "def get_angle(a, ref):\n",
    "    return np.apply_along_axis(signed_angle_between, 1, a, ref)"
   ]
  },
  {
   "cell_type": "code",
   "execution_count": 13,
   "metadata": {},
   "outputs": [
    {
     "name": "stdout",
     "output_type": "stream",
     "text": [
      "0\n",
      "1\n",
      "2\n",
      "3\n",
      "4\n",
      "5\n",
      "6\n",
      "7\n"
     ]
    }
   ],
   "source": [
    "def optical_flow_vector_field(path_in, path_out, slices, radius):\n",
    "        \n",
    "    from tifffile import imread, imwrite\n",
    "    from pathlib import Path\n",
    "    import numpy as np\n",
    "    from skimage.registration import optical_flow_ilk\n",
    "\n",
    "    nvec = 20  # Number of vectors to be displayed along each image dimension\n",
    "    \n",
    "    path_in = Path(path_in)\n",
    "    path_out = Path(path_out)\n",
    "    \n",
    "    #load raw image\n",
    "    image = imread(path_in).astype(\"uint8\")\n",
    "    im = image[slices]\n",
    "\n",
    "    norms = np.zeros(im.shape)\n",
    "    vectors = np.zeros(((len(im)-1)*((nvec+1)**2), 2, 3))\n",
    "    timepoints = np.array(list(range(len(image))))[slices]\n",
    "    for t in range(len(im)-1):\n",
    "        print(t)\n",
    "        # --- Compute the optical flow\n",
    "        v, u = optical_flow_ilk(image[timepoints[t]], image[timepoints[t+1]], radius=radius)\n",
    "\n",
    "        # --- Compute flow magnitude\n",
    "        norms[t] = np.sqrt(u ** 2 + v ** 2)\n",
    "        \n",
    "\n",
    "        nl, nc = im[t].shape\n",
    "        step = max(nl//nvec, nc//nvec)\n",
    "        \n",
    "        y, x = np.mgrid[:nl:step, :nc:step]\n",
    "        u_ = u[::step, ::step]\n",
    "        v_ = v[::step, ::step]\n",
    "        \n",
    "        time_point = np.ones((nvec+1)**2) * t\n",
    "        time_point_fix = np.zeros((nvec+1)**2)\n",
    "        start = np.array(list(zip(time_point, y.ravel(),x.ravel())))\n",
    "        end = np.array(list(zip(time_point_fix, v_.ravel(),u_.ravel())))\n",
    "\n",
    "        vectors[t*len(start):(t+1)*len(start),0,:] = start\n",
    "        vectors[t*len(start):(t+1)*len(start),1,:] = end\n",
    "    \n",
    "    angles = get_angle(vectors[:,1,1:], np.array([1, 0]))\n",
    "\n",
    "    data_vector = (u, v, u_, v_)\n",
    "    return im, norms, vectors, angles, data_vector\n",
    "\n",
    "path_in = '../data/placozoan-movie.tif'\n",
    "path_out = '../data/placozoan_vector.tif'\n",
    "\n",
    "im, norms, vectors, angles, data_vector = optical_flow_vector_field(path_in, path_out, slice(10, 100, 10), 15)\n"
   ]
  },
  {
   "cell_type": "code",
   "execution_count": null,
   "metadata": {},
   "outputs": [],
   "source": [
    "np.save(\"../data/results/vector_opticflow.npy\", data_vector) # save data"
   ]
  },
  {
   "cell_type": "code",
   "execution_count": 14,
   "metadata": {},
   "outputs": [],
   "source": [
    "# create the features dictionary.\n",
    "features = {\n",
    "    'angle': angles,\n",
    "}\n",
    "\n",
    "viewer.add_image(im)\n",
    "viewer.add_image(norms, colormap = 'viridis')\n",
    "\n",
    "# add the vectors\n",
    "layer = viewer.add_vectors(\n",
    "    vectors,\n",
    "    edge_width=3,\n",
    "    features=features,\n",
    "    edge_color='angle',\n",
    "    edge_colormap='hsv',\n",
    "    name='vectors'\n",
    ")\n",
    "\n",
    "# set the edge color mode to colormap\n",
    "layer.edge_color_mode = 'colormap'"
   ]
  }
 ],
 "metadata": {
  "kernelspec": {
   "display_name": "Python 3.8.13 ('placozoa')",
   "language": "python",
   "name": "python3"
  },
  "language_info": {
   "codemirror_mode": {
    "name": "ipython",
    "version": 3
   },
   "file_extension": ".py",
   "mimetype": "text/x-python",
   "name": "python",
   "nbconvert_exporter": "python",
   "pygments_lexer": "ipython3",
   "version": "3.8.13"
  },
  "orig_nbformat": 4,
  "vscode": {
   "interpreter": {
    "hash": "e5d2bb08a444509dc093275cd7ebe749a8ff1ef1fc396d5742d9248a0f92afe0"
   }
  }
 },
 "nbformat": 4,
 "nbformat_minor": 2
}
