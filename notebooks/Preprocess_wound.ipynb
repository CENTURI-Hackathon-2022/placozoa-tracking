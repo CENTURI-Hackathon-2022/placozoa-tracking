{
 "cells": [
  {
   "cell_type": "markdown",
   "id": "61ad31d2",
   "metadata": {},
   "source": [
    "# Preprocess the organism segmented file (binary mask) in order to have a mask of only the wound\n",
    "\n",
    "### To analyse the wound shape, running this code is necessary before the shape_descriptor.ipynb and Plot_data.ipynb codes."
   ]
  },
  {
   "cell_type": "markdown",
   "id": "87e1bf6c",
   "metadata": {},
   "source": [
    "Import the modules:"
   ]
  },
  {
   "cell_type": "code",
   "execution_count": 12,
   "id": "a3d518ef",
   "metadata": {},
   "outputs": [],
   "source": [
    "import skimage\n",
    "import napari\n",
    "from tifffile import imread\n",
    "from pathlib import Path\n",
    "\n",
    "import math\n",
    "import matplotlib.pyplot as plt\n",
    "import numpy as np\n",
    "import pandas as pd\n",
    "\n",
    "from skimage.draw import ellipse\n",
    "from skimage.measure import label, regionprops, regionprops_table,perimeter\n",
    "from skimage.transform import rotate\n",
    "from skimage.morphology import convex_hull_image\n",
    "from skimage.segmentation import clear_border"
   ]
  },
  {
   "cell_type": "markdown",
   "id": "a81840bc",
   "metadata": {},
   "source": [
    "Insert the segmented image (binary mask) name of the entire organism"
   ]
  },
  {
   "cell_type": "code",
   "execution_count": 2,
   "id": "d12b91bd",
   "metadata": {},
   "outputs": [],
   "source": [
    "path_mask = Path('../data/labeled_wound.tif') #insert path\n",
    "mask = imread(path_mask) #import mask"
   ]
  },
  {
   "cell_type": "markdown",
   "id": "d8db4b88",
   "metadata": {},
   "source": [
    "Extract the wound shape from the organism segmentation."
   ]
  },
  {
   "cell_type": "code",
   "execution_count": 5,
   "id": "1674d2e0",
   "metadata": {},
   "outputs": [],
   "source": [
    "inverted_mask= mask.copy() #copy the original mask\n",
    "# inverse the mask. The idea is to extract only the small object (= the wound) in the middle of the image, and to remove everything around.\n",
    "inverted_mask[mask==0]=1 \n",
    "inverted_mask[mask==1]=0\n",
    "# remove objects touching the borders.\n",
    "mask_cleared=clear_border(inverted_mask)"
   ]
  },
  {
   "cell_type": "markdown",
   "id": "6f231c80",
   "metadata": {},
   "source": [
    "Save the final wound mask as tif file:\n",
    "1) Create a function to save as tif  \n",
    "2) Save the mask"
   ]
  },
  {
   "cell_type": "code",
   "execution_count": 14,
   "id": "55f2f0a6",
   "metadata": {},
   "outputs": [],
   "source": [
    "#1\n",
    "from tifffile import TiffWriter\n",
    "def saveastiff(stack,path) :\n",
    "    with TiffWriter(path) as tif:\n",
    "        for frame in stack:\n",
    "            tif.write(frame, contiguous=True)"
   ]
  },
  {
   "cell_type": "code",
   "execution_count": 31,
   "id": "96ec804e",
   "metadata": {},
   "outputs": [],
   "source": [
    "#2\n",
    "path_output=r\"C:\\Users\\gros\\Desktop\\HACKATON\\final_mask_wound.tif\"\n",
    "saveastiff(mask_cleared,path_output)"
   ]
  }
 ],
 "metadata": {
  "kernelspec": {
   "display_name": "Python 3 (ipykernel)",
   "language": "python",
   "name": "python3"
  },
  "language_info": {
   "codemirror_mode": {
    "name": "ipython",
    "version": 3
   },
   "file_extension": ".py",
   "mimetype": "text/x-python",
   "name": "python",
   "nbconvert_exporter": "python",
   "pygments_lexer": "ipython3",
   "version": "3.10.4"
  }
 },
 "nbformat": 4,
 "nbformat_minor": 5
}
