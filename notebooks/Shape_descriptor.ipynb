{
 "cells": [
  {
   "cell_type": "code",
   "execution_count": null,
   "metadata": {},
   "outputs": [],
   "source": [
    "import skimage\n",
    "import napari\n",
    "from tifffile import imread\n",
    "from pathlib import Path\n",
    "\n",
    "import math\n",
    "import matplotlib.pyplot as plt\n",
    "import numpy as np\n",
    "import pandas as pd\n",
    "\n",
    "from skimage.draw import ellipse\n",
    "from skimage.measure import label, regionprops, regionprops_table\n",
    "from skimage.transform import rotate"
   ]
  },
  {
   "cell_type": "code",
   "execution_count": null,
   "metadata": {},
   "outputs": [],
   "source": [
    "# You might need to modify the path according to where you saved your dataset\n",
    "# Note that the `Path` library will deal with OS dependant path issues\n",
    "path_img = Path('placozoan-movie.tif')\n",
    "path_label = Path('imseq_mask_filtered.tif')\n",
    "img = imread(path_img)\n",
    "labels = imread(path_label)"
   ]
  },
  {
   "cell_type": "code",
   "execution_count": 170,
   "metadata": {},
   "outputs": [],
   "source": [
    "# temp\n",
    "img = img[:10]\n",
    "labels = labels[:10].astype(np.int8)"
   ]
  },
  {
   "cell_type": "code",
   "execution_count": 66,
   "metadata": {},
   "outputs": [],
   "source": [
    "viewer = napari.Viewer()"
   ]
  },
  {
   "cell_type": "code",
   "execution_count": 67,
   "metadata": {},
   "outputs": [
    {
     "data": {
      "text/plain": [
       "<Labels layer 'labels' at 0x20405b9dc00>"
      ]
     },
     "execution_count": 67,
     "metadata": {},
     "output_type": "execute_result"
    }
   ],
   "source": [
    "viewer.add_image(img)\n",
    "viewer.add_labels(labels)"
   ]
  },
  {
   "cell_type": "code",
   "execution_count": 185,
   "metadata": {},
   "outputs": [],
   "source": [
    "ppties=pd.DataFrame(regionprops_table(   \n",
    "        labels[0],\n",
    "        intensity_image=img[0],\n",
    "        properties=['label','centroid','area', 'eccentricity','perimeter','orientation'],\n",
    "    ))"
   ]
  },
  {
   "cell_type": "code",
   "execution_count": 186,
   "metadata": {},
   "outputs": [],
   "source": [
    "for t in range (1,len(labels)) :\n",
    "    other_timepoints=pd.DataFrame(regionprops_table(   \n",
    "        labels[t]*(t+1),\n",
    "        intensity_image=img[t],\n",
    "        properties=['label','centroid','area', 'eccentricity','perimeter','orientation'],\n",
    "    ))\n",
    "    ppties=pd.concat([ppties, other_timepoints])"
   ]
  },
  {
   "cell_type": "code",
   "execution_count": 187,
   "metadata": {},
   "outputs": [
    {
     "data": {
      "text/html": [
       "<div>\n",
       "<style scoped>\n",
       "    .dataframe tbody tr th:only-of-type {\n",
       "        vertical-align: middle;\n",
       "    }\n",
       "\n",
       "    .dataframe tbody tr th {\n",
       "        vertical-align: top;\n",
       "    }\n",
       "\n",
       "    .dataframe thead th {\n",
       "        text-align: right;\n",
       "    }\n",
       "</style>\n",
       "<table border=\"1\" class=\"dataframe\">\n",
       "  <thead>\n",
       "    <tr style=\"text-align: right;\">\n",
       "      <th></th>\n",
       "      <th>label</th>\n",
       "      <th>centroid-0</th>\n",
       "      <th>centroid-1</th>\n",
       "      <th>area</th>\n",
       "      <th>eccentricity</th>\n",
       "      <th>perimeter</th>\n",
       "      <th>orientation</th>\n",
       "    </tr>\n",
       "  </thead>\n",
       "  <tbody>\n",
       "    <tr>\n",
       "      <th>0</th>\n",
       "      <td>1</td>\n",
       "      <td>342.618081</td>\n",
       "      <td>313.910348</td>\n",
       "      <td>221657</td>\n",
       "      <td>0.260201</td>\n",
       "      <td>1922.528137</td>\n",
       "      <td>0.605789</td>\n",
       "    </tr>\n",
       "    <tr>\n",
       "      <th>0</th>\n",
       "      <td>2</td>\n",
       "      <td>342.981619</td>\n",
       "      <td>313.418401</td>\n",
       "      <td>222189</td>\n",
       "      <td>0.242104</td>\n",
       "      <td>2000.025612</td>\n",
       "      <td>0.601788</td>\n",
       "    </tr>\n",
       "    <tr>\n",
       "      <th>0</th>\n",
       "      <td>3</td>\n",
       "      <td>342.862135</td>\n",
       "      <td>313.432613</td>\n",
       "      <td>222224</td>\n",
       "      <td>0.243181</td>\n",
       "      <td>1963.569768</td>\n",
       "      <td>0.618400</td>\n",
       "    </tr>\n",
       "    <tr>\n",
       "      <th>0</th>\n",
       "      <td>4</td>\n",
       "      <td>343.175570</td>\n",
       "      <td>313.214915</td>\n",
       "      <td>222413</td>\n",
       "      <td>0.233321</td>\n",
       "      <td>2011.055049</td>\n",
       "      <td>0.616752</td>\n",
       "    </tr>\n",
       "    <tr>\n",
       "      <th>0</th>\n",
       "      <td>5</td>\n",
       "      <td>343.097618</td>\n",
       "      <td>313.134475</td>\n",
       "      <td>222458</td>\n",
       "      <td>0.228436</td>\n",
       "      <td>1998.605302</td>\n",
       "      <td>0.653314</td>\n",
       "    </tr>\n",
       "    <tr>\n",
       "      <th>0</th>\n",
       "      <td>6</td>\n",
       "      <td>343.155354</td>\n",
       "      <td>313.045856</td>\n",
       "      <td>222544</td>\n",
       "      <td>0.221459</td>\n",
       "      <td>1970.120021</td>\n",
       "      <td>0.694165</td>\n",
       "    </tr>\n",
       "    <tr>\n",
       "      <th>0</th>\n",
       "      <td>7</td>\n",
       "      <td>343.202177</td>\n",
       "      <td>312.526582</td>\n",
       "      <td>222894</td>\n",
       "      <td>0.209603</td>\n",
       "      <td>1945.463166</td>\n",
       "      <td>0.855846</td>\n",
       "    </tr>\n",
       "    <tr>\n",
       "      <th>0</th>\n",
       "      <td>8</td>\n",
       "      <td>343.373059</td>\n",
       "      <td>312.379723</td>\n",
       "      <td>222986</td>\n",
       "      <td>0.207208</td>\n",
       "      <td>1975.498700</td>\n",
       "      <td>0.902721</td>\n",
       "    </tr>\n",
       "    <tr>\n",
       "      <th>0</th>\n",
       "      <td>9</td>\n",
       "      <td>343.248008</td>\n",
       "      <td>312.277814</td>\n",
       "      <td>223009</td>\n",
       "      <td>0.212467</td>\n",
       "      <td>1937.770778</td>\n",
       "      <td>0.937923</td>\n",
       "    </tr>\n",
       "    <tr>\n",
       "      <th>0</th>\n",
       "      <td>10</td>\n",
       "      <td>343.476483</td>\n",
       "      <td>312.149155</td>\n",
       "      <td>223070</td>\n",
       "      <td>0.212285</td>\n",
       "      <td>1939.498700</td>\n",
       "      <td>0.985703</td>\n",
       "    </tr>\n",
       "  </tbody>\n",
       "</table>\n",
       "</div>"
      ],
      "text/plain": [
       "   label  centroid-0  centroid-1    area  eccentricity    perimeter  \\\n",
       "0      1  342.618081  313.910348  221657      0.260201  1922.528137   \n",
       "0      2  342.981619  313.418401  222189      0.242104  2000.025612   \n",
       "0      3  342.862135  313.432613  222224      0.243181  1963.569768   \n",
       "0      4  343.175570  313.214915  222413      0.233321  2011.055049   \n",
       "0      5  343.097618  313.134475  222458      0.228436  1998.605302   \n",
       "0      6  343.155354  313.045856  222544      0.221459  1970.120021   \n",
       "0      7  343.202177  312.526582  222894      0.209603  1945.463166   \n",
       "0      8  343.373059  312.379723  222986      0.207208  1975.498700   \n",
       "0      9  343.248008  312.277814  223009      0.212467  1937.770778   \n",
       "0     10  343.476483  312.149155  223070      0.212285  1939.498700   \n",
       "\n",
       "   orientation  \n",
       "0     0.605789  \n",
       "0     0.601788  \n",
       "0     0.618400  \n",
       "0     0.616752  \n",
       "0     0.653314  \n",
       "0     0.694165  \n",
       "0     0.855846  \n",
       "0     0.902721  \n",
       "0     0.937923  \n",
       "0     0.985703  "
      ]
     },
     "execution_count": 187,
     "metadata": {},
     "output_type": "execute_result"
    }
   ],
   "source": [
    "ppties"
   ]
  },
  {
   "cell_type": "code",
   "execution_count": 188,
   "metadata": {},
   "outputs": [],
   "source": [
    "ppties.to_csv(Path('C:/Users/gros/Desktop/HACKATON/ppties.csv'),sep=';')"
   ]
  },
  {
   "cell_type": "code",
   "execution_count": null,
   "metadata": {},
   "outputs": [],
   "source": [
    "#metric\n",
    "def inertia(egion):\n",
    "    y0, x0 = region.centroid\n",
    "    orientation = region.orientation\n",
    "    x1 = x0 + math.cos(orientation) * 0.5 * region.axis_minor_length\n",
    "    y1 = y0 - math.sin(orientation) * 0.5 * region.axis_minor_length\n",
    "    x2 = x0 - math.sin(orientation) * 0.5 * region.axis_major_length\n",
    "    y2 = y0 - math.cos(orientation) * 0.5 * region.axis_major_length\n",
    "\n",
    "    ax.plot((x0, x1), (y0, y1), '-r', linewidth=2.5)\n",
    "    ax.plot((x0, x2), (y0, y2), '-r', linewidth=2.5)\n",
    "    ax.plot(x0, y0, '.g', markersize=15)\n",
    "\n",
    "    minr, minc, maxr, maxc = region.bbox\n",
    "    bx = (minc, maxc, maxc, minc, minc)\n",
    "    by = (minr, minr, maxr, maxr, minr)\n",
    "    ax.plot(bx, by, '-b', linewidth=2.5)\n"
   ]
  },
  {
   "cell_type": "code",
   "execution_count": 183,
   "metadata": {},
   "outputs": [
    {
     "name": "stdout",
     "output_type": "stream",
     "text": [
      "222189\n",
      "222224\n",
      "222413\n",
      "222458\n",
      "222544\n",
      "222894\n",
      "222986\n",
      "223009\n",
      "223070\n",
      "[222189, 222224, 222413, 222458, 222544, 222894, 222986, 223009, 223070]\n"
     ]
    },
    {
     "data": {
      "image/png": "[encoded data removed]",
      "text/plain": [
       "<Figure size 432x288 with 1 Axes>"
      ]
     },
     "metadata": {
      "needs_background": "light"
     },
     "output_type": "display_data"
    }
   ],
   "source": [
    "import matplotlib.pyplot as plt\n",
    "import matplotlib.patches as mpatches\n",
    "\n",
    "from skimage import data\n",
    "from skimage.filters import threshold_otsu\n",
    "from skimage.segmentation import clear_border\n",
    "from skimage.measure import label, regionprops\n",
    "from skimage.morphology import closing, square\n",
    "from skimage.color import label2rgb\n",
    "\n",
    "\n",
    "#print(len(labels))\n",
    "\n",
    "\n",
    "areas = []\n",
    "# label image regions\n",
    "for label_image in range(len(labels)-1):\n",
    "    i = int(label_image + 1)\n",
    "    image = img[i]\n",
    "    bw = labels[i]\n",
    "    # to make the background transparent, pass the value of `bg_label`,\n",
    "    # and leave `bg_color` as `None` and `kind` as `overlay`\n",
    "    image_label_overlay = label2rgb(bw, image=image, bg_label=0)\n",
    "\n",
    "    #fig, ax = plt.subplots(figsize=(10, 6))\n",
    "    #ax.imshow(image_label_overlay)\n",
    "\n",
    "\n",
    "    for region in regionprops(bw):\n",
    "        print (region.area)\n",
    "        areas.append(region.area)\n",
    "\n",
    "plt.plot(areas)\n",
    "print(areas)"
   ]
  }
 ],
 "metadata": {
  "kernelspec": {
   "display_name": "Python 3 (ipykernel)",
   "language": "python",
   "name": "python3"
  },
  "language_info": {
   "codemirror_mode": {
    "name": "ipython",
    "version": 3
   },
   "file_extension": ".py",
   "mimetype": "text/x-python",
   "name": "python",
   "nbconvert_exporter": "python",
   "pygments_lexer": "ipython3",
   "version": "3.10.4"
  },
  "vscode": {
   "interpreter": {
    "hash": "503dd4835029013ab8eec4e0d11b77104d09f907c81a6d9d5d84ff37c81bf40b"
   }
  }
 },
 "nbformat": 4,
 "nbformat_minor": 2
}
