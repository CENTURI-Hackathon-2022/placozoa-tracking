{
 "cells": [
  {
   "cell_type": "markdown",
   "metadata": {},
   "source": [
    "# Shape descriptors  \n",
    "##### Characterizing the shape of a segmented image (binary mask), that can be either the entire Placozoa organism, either the wound."
   ]
  },
  {
   "cell_type": "markdown",
   "metadata": {},
   "source": [
    "Import all the mandatory modules"
   ]
  },
  {
   "cell_type": "code",
   "execution_count": 2,
   "metadata": {},
   "outputs": [],
   "source": [
    "import skimage\n",
    "import napari\n",
    "from tifffile import imread\n",
    "from pathlib import Path\n",
    "import scipy.ndimage as ndi\n",
    "\n",
    "import math\n",
    "import matplotlib.pyplot as plt\n",
    "import numpy as np\n",
    "import pandas as pd\n",
    "\n",
    "from skimage.draw import ellipse\n",
    "from skimage.measure import label, regionprops, regionprops_table,perimeter\n",
    "from skimage.transform import rotate\n",
    "from skimage.morphology import convex_hull_image"
   ]
  },
  {
   "cell_type": "markdown",
   "metadata": {},
   "source": [
    "Indicate the original image name, the mask name (tif files that are normally in the \"data\" folder).\n",
    "Indicate the name of the csv file, that will correspond to the final table with the analyzed data."
   ]
  },
  {
   "cell_type": "code",
   "execution_count": 4,
   "metadata": {},
   "outputs": [],
   "source": [
    "# You might need to modify the path according to where you saved your dataset\n",
    "# Note that the `Path` library will deal with OS dependant path issues\n",
    "path_img = Path('../data/placozoan-movie.tif')#path of the original image\n",
    "path_label = Path('../data/final_mask_wound.tif')#path of the mask: the filename of the wound mask and the filename of the organism mask are two different files. Don't forget to change it: 'labeled_wound.tif','final_mask_wound.tif','imseq_mask_filtered.tif'\n",
    "path_output_table = Path('../data/ppties_wound.csv')#path to save data as csv file. Don't forget to change it if you run the shape descriptor analysis for the organism or for the wound, for the same sample;\n",
    "#names : ppties.csv or ppties_wound.csv\n",
    "\n",
    "#read the files\n",
    "img = imread(path_img)\n",
    "labels = imread(path_label)\n"
   ]
  },
  {
   "cell_type": "code",
   "execution_count": 350,
   "metadata": {},
   "outputs": [],
   "source": [
    "# temporary, if you want to test on a small substet of data\n",
    "#img = img[:700]\n",
    "#labels = labels[:700].astype(np.int8)"
   ]
  },
  {
   "cell_type": "code",
   "execution_count": 5,
   "metadata": {},
   "outputs": [],
   "source": [
    "#fill the holes within the mask\n",
    "label_filled=ndi.binary_fill_holes(labels)\n",
    "# it will be useful to compute the right object perimeter when using regionprops"
   ]
  },
  {
   "cell_type": "markdown",
   "metadata": {},
   "source": [
    "Choose the properties you would like to extract from the binary mask (= segmentation):  \n",
    "https://scikit-image.org/docs/dev/api/skimage.measure.html#skimage.measure.regionprops_table  \n",
    "Add these components to the 'properties' list, below.\n"
   ]
  },
  {
   "cell_type": "code",
   "execution_count": 6,
   "metadata": {},
   "outputs": [],
   "source": [
    "properties=['label','centroid','area', 'perimeter','eccentricity','orientation','axis_major_length','axis_minor_length']"
   ]
  },
  {
   "cell_type": "code",
   "execution_count": 7,
   "metadata": {},
   "outputs": [],
   "source": [
    "## Initialize the dataframe (final table) with timepoint 0. \n",
    "tab=pd.DataFrame(regionprops_table(   \n",
    "        label_filled[0].astype(int),\n",
    "        intensity_image=img[0],\n",
    "        properties=properties,\n",
    "    ))"
   ]
  },
  {
   "cell_type": "code",
   "execution_count": 8,
   "metadata": {},
   "outputs": [],
   "source": [
    "## Then we will compute the metrics for each timepoint\n",
    "## and concatenate the new line (corresponding to the new timepoint) to the dataframe\n",
    "for t in range (1,len(labels)) :\n",
    "    other_timepoints=pd.DataFrame(regionprops_table(   \n",
    "        (label_filled[t]*(t+1)).astype(int),\n",
    "        intensity_image=img[t],\n",
    "        properties=properties,\n",
    "    ))\n",
    "    tab=pd.concat([tab, other_timepoints])"
   ]
  },
  {
   "cell_type": "markdown",
   "metadata": {},
   "source": [
    "We then compute the convexity, that was not available from the regionprops modules. We then add it to the dataframe.  \n",
    " \n",
    "The convexity is the ratio between the perimeter of the convex hull of an object and the real perimeter of the object. If it is lower than 1, it indicates that the object is highly concave at some part of its shape."
   ]
  },
  {
   "cell_type": "code",
   "execution_count": 9,
   "metadata": {},
   "outputs": [
    {
     "name": "stderr",
     "output_type": "stream",
     "text": [
      "C:\\Users\\gros\\AppData\\Local\\Temp\\ipykernel_8324\\3564871535.py:6: UserWarning: Input image is entirely zero, no valid convex hull. Returning empty image\n",
      "  conv_hull=convex_hull_image(label_filled[t]) #compute the convex hull of the current image mask\n",
      "C:\\Users\\gros\\AppData\\Local\\Temp\\ipykernel_8324\\3564871535.py:10: RuntimeWarning: invalid value encountered in double_scalars\n",
      "  convexity=perimeter_convhull/perimeter_mask #compute their ratio\n"
     ]
    }
   ],
   "source": [
    "#compute convexity\n",
    "#actually you can add whatever metric you want to the dataframe\n",
    "list_convexity=[]\n",
    "for t in range (0,len(labels)) : #for each timepoint\n",
    "    #print(t)\n",
    "    conv_hull=convex_hull_image(label_filled[t]) #compute the convex hull of the current image mask\n",
    "    perimeter_convhull=perimeter(conv_hull) #compute its perimeter\n",
    "    perimeter_mask=perimeter(label_filled[t]) #compute the perimeter of the current image mask\n",
    "\n",
    "    convexity=perimeter_convhull/perimeter_mask #compute their ratio\n",
    "    \n",
    "    if math.isnan(convexity) == 0:\n",
    "        list_convexity.append(convexity) #we keep the data only when the mask exists\n",
    "\n",
    "tab['convexity']=list_convexity"
   ]
  },
  {
   "cell_type": "code",
   "execution_count": 10,
   "metadata": {},
   "outputs": [],
   "source": [
    "## sort the dataframe by label index\n",
    "ppties=tab.set_index('label')"
   ]
  },
  {
   "cell_type": "markdown",
   "metadata": {},
   "source": [
    "Save the dataframe as a csv file :"
   ]
  },
  {
   "cell_type": "code",
   "execution_count": 11,
   "metadata": {},
   "outputs": [],
   "source": [
    "ppties.to_csv(path_output_table,sep=';')"
   ]
  }
 ],
 "metadata": {
  "kernelspec": {
   "display_name": "Python 3 (ipykernel)",
   "language": "python",
   "name": "python3"
  },
  "language_info": {
   "codemirror_mode": {
    "name": "ipython",
    "version": 3
   },
   "file_extension": ".py",
   "mimetype": "text/x-python",
   "name": "python",
   "nbconvert_exporter": "python",
   "pygments_lexer": "ipython3",
   "version": "3.10.4"
  },
  "vscode": {
   "interpreter": {
    "hash": "503dd4835029013ab8eec4e0d11b77104d09f907c81a6d9d5d84ff37c81bf40b"
   }
  }
 },
 "nbformat": 4,
 "nbformat_minor": 2
}
