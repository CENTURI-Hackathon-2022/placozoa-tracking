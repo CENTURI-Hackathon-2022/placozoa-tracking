{
 "cells": [
  {
   "cell_type": "markdown",
   "id": "61ad31d2",
   "metadata": {},
   "source": [
    "# Post process the segmentation (binary mask) in order to have a mask of only the holes in the image (corresponding to the wound hopefuly)\n",
    "\n",
    "### To analyse the wound shape, running this code is necessary before the shape_descriptor.ipynb and Plot_data.ipynb codes."
   ]
  },
  {
   "cell_type": "markdown",
   "id": "87e1bf6c",
   "metadata": {},
   "source": [
    "Import the modules:"
   ]
  },
  {
   "cell_type": "code",
   "execution_count": 1,
   "id": "a3d518ef",
   "metadata": {},
   "outputs": [
    {
     "name": "stderr",
     "output_type": "stream",
     "text": [
      "2022-06-26 04:09:55.259961: I tensorflow/core/util/util.cc:169] oneDNN custom operations are on. You may see slightly different numerical results due to floating-point round-off errors from different computation orders. To turn them off, set the environment variable `TF_ENABLE_ONEDNN_OPTS=0`.\n",
      "2022-06-26 04:09:55.301473: W tensorflow/stream_executor/platform/default/dso_loader.cc:64] Could not load dynamic library 'libcudart.so.11.0'; dlerror: libcudart.so.11.0: cannot open shared object file: No such file or directory\n",
      "2022-06-26 04:09:55.301486: I tensorflow/stream_executor/cuda/cudart_stub.cc:29] Ignore above cudart dlerror if you do not have a GPU set up on your machine.\n"
     ]
    }
   ],
   "source": [
    "from func_segmentation import get_holes_mask\n",
    "from utils import load_params, load_tiff, save_tiff\n",
    "from pathlib import Path\n",
    "from napari import Viewer"
   ]
  },
  {
   "cell_type": "markdown",
   "id": "3e2caa1e",
   "metadata": {},
   "source": [
    "Load Parameter for the wound detection"
   ]
  },
  {
   "cell_type": "code",
   "execution_count": 2,
   "id": "63facb94",
   "metadata": {},
   "outputs": [],
   "source": [
    "# load params\n",
    "\n",
    "param_path = Path('../parameters/default_holes_finder.yml')\n",
    "params = load_params(param_path)"
   ]
  },
  {
   "cell_type": "markdown",
   "id": "a81840bc",
   "metadata": {},
   "source": [
    "Insert the segmented image (binary mask) name of the entire organism"
   ]
  },
  {
   "cell_type": "code",
   "execution_count": 3,
   "id": "d12b91bd",
   "metadata": {},
   "outputs": [],
   "source": [
    "# load image\n",
    "\n",
    "im_path = Path(params[\"input\"][\"path\"])\n",
    "im_axes = params[\"input\"][\"axes\"]\n",
    "im = load_tiff(im_path, im_axes)[0:30] # take only a slice of the image for demo"
   ]
  },
  {
   "cell_type": "markdown",
   "id": "d8db4b88",
   "metadata": {},
   "source": [
    "Extract the wound shape from the organism segmentation."
   ]
  },
  {
   "cell_type": "code",
   "execution_count": 4,
   "id": "1674d2e0",
   "metadata": {},
   "outputs": [],
   "source": [
    "mask = get_holes_mask(im)"
   ]
  },
  {
   "cell_type": "markdown",
   "id": "6f231c80",
   "metadata": {},
   "source": [
    "Save the final wound mask as tif file"
   ]
  },
  {
   "cell_type": "code",
   "execution_count": 5,
   "id": "55f2f0a6",
   "metadata": {},
   "outputs": [
    {
     "data": {
      "text/plain": [
       "PosixPath('../data/results/wound_mask.tif')"
      ]
     },
     "execution_count": 5,
     "metadata": {},
     "output_type": "execute_result"
    }
   ],
   "source": [
    "output_path = Path(params[\"output\"][\"path\"])\n",
    "output_axes = params[\"output\"][\"axes\"]\n",
    "save_tiff(output_path, mask, output_axes)"
   ]
  },
  {
   "cell_type": "markdown",
   "id": "3b1d2565",
   "metadata": {},
   "source": [
    "# Matplotlib Viewer"
   ]
  },
  {
   "cell_type": "code",
   "execution_count": 6,
   "id": "2e47b1cf",
   "metadata": {},
   "outputs": [],
   "source": [
    "import matplotlib.pyplot as plt"
   ]
  },
  {
   "cell_type": "code",
   "execution_count": 7,
   "id": "ffbb0260",
   "metadata": {},
   "outputs": [
    {
     "data": {
      "image/png": "[encoded data removed]",
      "text/plain": [
       "<Figure size 720x720 with 4 Axes>"
      ]
     },
     "metadata": {},
     "output_type": "display_data"
    }
   ],
   "source": [
    "nb_time_points = len(im)\n",
    "\n",
    "fig, axes = plt.subplots(2, 2, figsize=(10, 10), subplot_kw={'aspect':1}, sharex=True, sharey=True)\n",
    "axes = axes.flatten()\n",
    "for i, ax in enumerate(axes):\n",
    "    tp = i*(nb_time_points-1)//(len(axes)-1)\n",
    "    if i // 2 == 0:\n",
    "        ax.imshow(im[tp, ...])\n",
    "    else:\n",
    "        ax.imshow(mask[tp, ...])\n",
    "    ax.set_xticks([])\n",
    "    ax.set_yticks([])\n",
    "    ax.set_title(f'Time point {tp}')\n",
    "fig.tight_layout()"
   ]
  },
  {
   "cell_type": "markdown",
   "id": "fbf1fe34",
   "metadata": {},
   "source": [
    "# Napari Viewer"
   ]
  },
  {
   "cell_type": "code",
   "execution_count": 8,
   "id": "f02ee606",
   "metadata": {},
   "outputs": [
    {
     "name": "stderr",
     "output_type": "stream",
     "text": [
      "/home/clement/Documents/centuri-hackaton/venv/lib/python3.8/site-packages/napari_tools_menu/__init__.py:179: FutureWarning: Public access to Window.qt_viewer is deprecated and will be removed in\n",
      "v0.5.0. It is considered an \"implementation detail\" of the napari\n",
      "application, not part of the napari viewer model. If your use case\n",
      "requires access to qt_viewer, please open an issue to discuss.\n",
      "  self.tools_menu = ToolsMenu(self, self.qt_viewer.viewer)\n"
     ]
    }
   ],
   "source": [
    "viewer = Viewer()"
   ]
  },
  {
   "cell_type": "code",
   "execution_count": 9,
   "id": "f23a742d",
   "metadata": {},
   "outputs": [],
   "source": [
    "im_layer = viewer.add_image(im)\n",
    "mask_layer = viewer.add_labels(mask)"
   ]
  },
  {
   "cell_type": "code",
   "execution_count": null,
   "id": "e2f8a765",
   "metadata": {},
   "outputs": [
    {
     "data": {
      "text/plain": [
       "PosixPath('../data/results/wound_mask.tif')"
      ]
     },
     "execution_count": 21,
     "metadata": {},
     "output_type": "execute_result"
    }
   ],
   "source": [
    "# if you want to save the manually corrected mask run this cell\n",
    "mask_corrected = mask_layer.data\n",
    "output_path = Path(params[\"output\"][\"path\"])\n",
    "output_axes = params[\"output\"][\"axes\"]\n",
    "save_tiff(output_path, mask, output_axes)"
   ]
  }
 ],
 "metadata": {
  "kernelspec": {
   "display_name": "Python 3.8.13 ('venv': venv)",
   "language": "python",
   "name": "python3"
  },
  "language_info": {
   "codemirror_mode": {
    "name": "ipython",
    "version": 3
   },
   "file_extension": ".py",
   "mimetype": "text/x-python",
   "name": "python",
   "nbconvert_exporter": "python",
   "pygments_lexer": "ipython3",
   "version": "3.8.13"
  },
  "vscode": {
   "interpreter": {
    "hash": "503dd4835029013ab8eec4e0d11b77104d09f907c81a6d9d5d84ff37c81bf40b"
   }
  }
 },
 "nbformat": 4,
 "nbformat_minor": 5
}
