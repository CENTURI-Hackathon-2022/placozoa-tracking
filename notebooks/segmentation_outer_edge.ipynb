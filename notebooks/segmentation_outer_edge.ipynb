{
 "cells": [
  {
   "cell_type": "code",
<<<<<<< HEAD
   "execution_count": 5,
   "id": "14d5742b",
   "metadata": {},
   "outputs": [],
   "source": [
    "def find_outer_edge(path_in, path_out): \n",
    "    \n",
    "    from tifffile import imread, imwrite\n",
    "    import scipy.ndimage as nd\n",
    "    from pathlib import Path\n",
    "    from skimage.morphology import disk\n",
    "    import numpy as np\n",
    "    import morphsnakes as ms\n",
    "    from scipy.ndimage.morphology import binary_fill_holes\n",
    "    from skimage.filters import rank\n",
    "    \n",
    "    path_in = Path(path_in)\n",
    "    path_out = Path(path_out)\n",
    "\n",
    "    image = imread(path_in)\n",
    "    \n",
    "    output_array = np.zeros(image.shape, dtype = bool)\n",
    "    \n",
    "    for t in range(0,image.shape[0]):\n",
    "\n",
    "        im_single_t = image[t,:,:]\n",
    "        im_filtered_minimum =  rank.minimum(im_single_t, disk(4))\n",
    "        im_ms = ms.morphological_chan_vese(im_filtered_minimum, 10)\n",
    "        ms_filled = binary_fill_holes(im_ms)\n",
    "\n",
    "        #detect if its is segmented the right way around (expecting that the background has most area touching the image border)\n",
    "        #otherwise invert the image\n",
    "        amount_edge_false = ms_filled[ms_filled[0,:] == False].shape[0] + ms_filled[ms_filled[-1,:] == False].shape[0] + ms_filled[ms_filled[:,0] == False].shape[0] + ms_filled[ms_filled[:,-1] == False].shape[0]\n",
    "        amount_edge_true = ms_filled[ms_filled[0,:] == True].shape[0] + ms_filled[ms_filled[-1,:] == True].shape[0] + ms_filled[ms_filled[:,0] == True].shape[0] + ms_filled[ms_filled[:,-1] == True].shape[0]\n",
    "        if amount_edge_true < amount_edge_false:\n",
    "            pass\n",
    "        else:\n",
    "            ms_filled = np.invert(ms_filled) \n",
    "        \n",
    "        #label connected components in the binary mask\n",
    "        labels, num_features = nd.label(ms_filled)\n",
    "        label_unique = np.unique(labels)\n",
    "\n",
    "        #count pixels of each component and sort them by size, excluding the background\n",
    "        vol_list = []\n",
    "        for label in label_unique:\n",
    "            if label != 0:\n",
    "                vol_list.append(np.count_nonzero(labels == label))\n",
    "        \n",
    "        #create binary array of only the largest component\n",
    "        binary_mask = np.zeros(labels.shape)\n",
    "        binary_mask = np.where(labels == vol_list.index(max(vol_list))+1, 1, 0)\n",
    "        \n",
    "        output_array[t,:,:] = binary_mask\n",
    "    imwrite(path_out, output_array)\n",
    "        \n",
    "    return output_array"
=======
   "execution_count": null,
   "id": "500ce4a6",
   "metadata": {},
   "outputs": [],
   "source": [
    "# install morphsnakes for now and decide later if we put it as dependency\n",
    "!pip install morphsnakes"
>>>>>>> 48277a4a1a44ffac1a5b802534498b8abc55bbfb
   ]
  },
  {
   "cell_type": "code",
<<<<<<< HEAD
   "execution_count": 6,
   "id": "72fa4400",
   "metadata": {},
   "outputs": [
    {
     "name": "stderr",
     "output_type": "stream",
     "text": [
      "/var/folders/hy/gn11hblx0vd2f31kv2nh957m3sym46/T/ipykernel_6997/1845736289.py:9: DeprecationWarning: Please use `binary_fill_holes` from the `scipy.ndimage` namespace, the `scipy.ndimage.morphology` namespace is deprecated.\n",
      "  from scipy.ndimage.morphology import binary_fill_holes\n"
     ]
    }
   ],
   "source": [
    "path_in = '../../data/placozoan-movie.tif'\n",
    "path_out = '../../data/placozoan-outer_edge_mask.tif'\n",
    "\n",
    "\n",
    "outer_edge = find_outer_edge(path_in, path_out)"
=======
   "execution_count": null,
   "id": "805eae07",
   "metadata": {},
   "outputs": [],
   "source": [
    "from pathlib import Path\n",
    "\n",
    "from tifffile import imread\n",
    "from napari import Viewer\n",
    "\n",
    "from src.segmentation import find_outer_edge"
>>>>>>> 48277a4a1a44ffac1a5b802534498b8abc55bbfb
   ]
  },
  {
   "cell_type": "code",
<<<<<<< HEAD
   "execution_count": 8,
   "id": "9dd11a6d",
   "metadata": {},
   "outputs": [
    {
     "data": {
      "text/plain": [
       "<Image layer 'outer_edge' at 0x126bc90c0>"
      ]
     },
     "execution_count": 8,
     "metadata": {},
     "output_type": "execute_result"
    }
   ],
   "source": [
    "from napari import Viewer\n",
    "viewer = Viewer()\n",
    "viewer.add_image(outer_edge)"
=======
   "execution_count": null,
   "id": "5eb3e9ce",
   "metadata": {},
   "outputs": [],
   "source": [
    "path_raw = Path('../data/placozoan-movie.tif')\n",
    "path_result = Path('../data/placozoan-movie_mask_outer_edge.tif')\n",
    "im = imread(path_raw)"
>>>>>>> 48277a4a1a44ffac1a5b802534498b8abc55bbfb
   ]
  },
  {
   "cell_type": "code",
   "execution_count": null,
<<<<<<< HEAD
   "id": "bf314d22",
   "metadata": {},
   "outputs": [],
   "source": []
=======
   "id": "a5594ee8",
   "metadata": {},
   "outputs": [],
   "source": [
    "outer_edge = find_outer_edge(path_raw, path_result)"
   ]
  },
  {
   "cell_type": "code",
   "execution_count": null,
   "id": "383b1761",
   "metadata": {},
   "outputs": [],
   "source": [
    "viewer = Viewer()\n",
    "viewer.add_image(im)\n",
    "viewer.add_image(outer_edge)"
   ]
>>>>>>> 48277a4a1a44ffac1a5b802534498b8abc55bbfb
  }
 ],
 "metadata": {
  "kernelspec": {
<<<<<<< HEAD
   "display_name": "Python 3 (ipykernel)",
=======
   "display_name": "Python 3.8.13 ('venv': venv)",
>>>>>>> 48277a4a1a44ffac1a5b802534498b8abc55bbfb
   "language": "python",
   "name": "python3"
  },
  "language_info": {
   "codemirror_mode": {
    "name": "ipython",
    "version": 3
   },
   "file_extension": ".py",
   "mimetype": "text/x-python",
   "name": "python",
   "nbconvert_exporter": "python",
   "pygments_lexer": "ipython3",
<<<<<<< HEAD
   "version": "3.10.5"
=======
   "version": "3.8.13"
  },
  "vscode": {
   "interpreter": {
    "hash": "503dd4835029013ab8eec4e0d11b77104d09f907c81a6d9d5d84ff37c81bf40b"
   }
>>>>>>> 48277a4a1a44ffac1a5b802534498b8abc55bbfb
  }
 },
 "nbformat": 4,
 "nbformat_minor": 5
}
