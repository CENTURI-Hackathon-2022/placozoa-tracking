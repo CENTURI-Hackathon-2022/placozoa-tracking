{
 "cells": [
  {
   "cell_type": "code",
   "execution_count": null,
   "id": "500ce4a6",
   "metadata": {},
   "outputs": [],
   "source": [
    "# install morphsnakes for now and decide later if we put it as dependency\n",
    "!pip install morphsnakes"
   ]
  },
  {
   "cell_type": "code",
   "execution_count": null,
   "id": "805eae07",
   "metadata": {},
   "outputs": [],
   "source": [
    "from pathlib import Path\n",
    "\n",
    "from tifffile import imread\n",
    "from napari import Viewer\n",
    "\n",
    "from src.segmentation import find_outer_edge"
   ]
  },
  {
   "cell_type": "code",
   "execution_count": null,
   "id": "5eb3e9ce",
   "metadata": {},
   "outputs": [],
   "source": [
    "path_raw = Path('../data/placozoan-movie.tif')\n",
    "path_result = Path('../data/placozoan-movie_mask_outer_edge.tif')\n",
    "im = imread(path_raw)"
   ]
  },
  {
   "cell_type": "code",
   "execution_count": null,
   "id": "a5594ee8",
   "metadata": {},
   "outputs": [],
   "source": [
    "outer_edge = find_outer_edge(path_raw, path_result)"
   ]
  },
  {
   "cell_type": "code",
   "execution_count": null,
   "id": "383b1761",
   "metadata": {},
   "outputs": [],
   "source": [
    "viewer = Viewer()\n",
    "viewer.add_image(im)\n",
    "viewer.add_image(outer_edge)"
   ]
  }
 ],
 "metadata": {
  "kernelspec": {
   "display_name": "Python 3.8.13 ('venv': venv)",
   "language": "python",
   "name": "python3"
  },
  "language_info": {
   "codemirror_mode": {
    "name": "ipython",
    "version": 3
   },
   "file_extension": ".py",
   "mimetype": "text/x-python",
   "name": "python",
   "nbconvert_exporter": "python",
   "pygments_lexer": "ipython3",
   "version": "3.8.13"
  },
  "vscode": {
   "interpreter": {
    "hash": "503dd4835029013ab8eec4e0d11b77104d09f907c81a6d9d5d84ff37c81bf40b"
   }
  }
 },
 "nbformat": 4,
 "nbformat_minor": 5
}
