{
 "cells": [
  {
   "cell_type": "markdown",
   "metadata": {},
   "source": [
    "# Walkthrough using napari\n",
    "From raw image to plot the area through time of the wound"
   ]
  },
  {
   "cell_type": "code",
   "execution_count": 1,
   "metadata": {},
   "outputs": [],
   "source": [
    "import napari\n",
    "from magicgui import magicgui\n",
    "from napari.types import ImageData, LabelsData, LayerDataTuple\n",
    "from magicgui import widgets\n",
    "from magicgui.tqdm import trange\n",
    "from base_segmentation import Otsu, YAPIC, ChanVese\n",
    "from utils import load_params, load_tiff, save_tiff\n",
    "from func_segmentation import get_holes_mask\n",
    "from pathlib import Path\n",
    "import numpy as np"
   ]
  },
  {
   "cell_type": "code",
   "execution_count": 2,
   "metadata": {},
   "outputs": [
    {
     "name": "stderr",
     "output_type": "stream",
     "text": [
      "WARNING: inotify_add_watch(/home/clement/.config/ibus/bus/3ae285cffc954c4a8e3eac545fa37b66-unix-1) failed: (No space left on device)\n"
     ]
    }
   ],
   "source": [
    "viewer = napari.Viewer()"
   ]
  },
  {
   "cell_type": "code",
   "execution_count": 5,
   "metadata": {},
   "outputs": [
    {
     "ename": "NameError",
     "evalue": "name 'Path' is not defined",
     "output_type": "error",
     "traceback": [
      "\u001b[0;31m---------------------------------------------------------------------------\u001b[0m",
      "\u001b[0;31mNameError\u001b[0m                                 Traceback (most recent call last)",
      "\u001b[1;32m/home/clement/Documents/centuri-hackaton/placozoa-tracking/notebooks/visualization_napari_workflow.ipynb Cell 7'\u001b[0m in \u001b[0;36m<cell line: 3>\u001b[0;34m()\u001b[0m\n\u001b[1;32m      <a href='vscode-notebook-cell:/home/clement/Documents/centuri-hackaton/placozoa-tracking/notebooks/visualization_napari_workflow.ipynb#ch0000005?line=0'>1</a>\u001b[0m \u001b[39m# load all Segmentation Parameters\u001b[39;00m\n\u001b[0;32m----> <a href='vscode-notebook-cell:/home/clement/Documents/centuri-hackaton/placozoa-tracking/notebooks/visualization_napari_workflow.ipynb#ch0000005?line=2'>3</a>\u001b[0m param_path \u001b[39m=\u001b[39m Path(\u001b[39m'\u001b[39m\u001b[39m../parameters/default_segmentation_workflow.yml\u001b[39m\u001b[39m'\u001b[39m)\n\u001b[1;32m      <a href='vscode-notebook-cell:/home/clement/Documents/centuri-hackaton/placozoa-tracking/notebooks/visualization_napari_workflow.ipynb#ch0000005?line=3'>4</a>\u001b[0m params \u001b[39m=\u001b[39m load_params(param_path)\n",
      "\u001b[0;31mNameError\u001b[0m: name 'Path' is not defined"
     ]
    }
   ],
   "source": [
    "# load all Segmentation Parameters\n",
    "\n",
    "param_path = Path('../parameters/default_segmentation_workflow.yml')\n",
    "params = load_params(param_path)"
   ]
  },
  {
   "cell_type": "code",
   "execution_count": 10,
   "metadata": {},
   "outputs": [
    {
     "data": {
      "text/plain": [
       "<napari._qt.widgets.qt_viewer_dock_widget.QtViewerDockWidget at 0x7faa13cce310>"
      ]
     },
     "execution_count": 10,
     "metadata": {},
     "output_type": "execute_result"
    },
    {
     "ename": "",
     "evalue": "",
     "output_type": "error",
     "traceback": [
      "\u001b[1;31mThe Kernel crashed while executing code in the the current cell or a previous cell. Please review the code in the cell(s) to identify a possible cause of the failure. Click <a href='https://aka.ms/vscodeJupyterKernelCrash'>here</a> for more info. View Jupyter <a href='command:jupyter.viewOutput'>log</a> for further details."
     ]
    }
   ],
   "source": [
    "\n",
    "import pathlib\n",
    "\n",
    "@magicgui(\n",
    "    call_button='Load tif image'\n",
    ")\n",
    "def image_loader(\n",
    "    filename=pathlib.Path(params['input']['path'])\n",
    ") -> ImageData:\n",
    "    im_axes = params['input']['axes']\n",
    "    im = load_tiff(filename, im_axes)\n",
    "    return im\n",
    "# add our new magicgui widget to the viewer\n",
    "viewer.window.add_dock_widget(image_loader)"
   ]
  },
  {
   "cell_type": "code",
   "execution_count": 5,
   "metadata": {},
   "outputs": [],
   "source": [
    "# viz utils function \n",
    "\n",
    "def get_container(container_name, params):\n",
    "\n",
    "    table = widgets.Table(value=params)\n",
    "    btn = widgets.PushButton(text=\"Edit Params\")\n",
    "\n",
    "    @btn.changed.connect\n",
    "    def show_params(value: bool):\n",
    "        table.show()\n",
    "\n",
    "    wdg_segment = [widgets.CheckBox(label=\"\"), btn]\n",
    "    container = widgets.Container(name=container_name, widgets=wdg_segment, layout=\"horizontal\")\n",
    "    # container.bind = btn.bind.__get__(container)\n",
    "    container.value = container\n",
    "    return container, table"
   ]
  },
  {
   "cell_type": "code",
   "execution_count": 6,
   "metadata": {},
   "outputs": [],
   "source": [
    "# segmentation widget\n",
    "\n",
    "segmentation_methods_params_table = []\n",
    "segmentation_widgets = []\n",
    "\n",
    "\n",
    "for segmentation in params[\"segmentation_params\"]:\n",
    "    container, table = get_container(segmentation, {segmentation:params[\"segmentation_params\"][segmentation]})\n",
    "    segmentation_widgets.append(container)\n",
    "    segmentation_methods_params_table.append(table)\n",
    "\n",
    "\n",
    "segmentation_methods_container = widgets.Container(widgets=segmentation_widgets, name=\"Choose_segmentation_method\")\n",
    "segmentation_methods_container.value = segmentation_methods_container\n",
    "segmentation_methods_func = [Otsu, YAPIC, ChanVese]\n",
    "\n",
    "@magicgui(call_button='Segment `input image`')\n",
    "def segmentation_widget(\n",
    "    input_image:ImageData,\n",
    "    holder,\n",
    "    nb_of_timestep_to_segment:int=10,\n",
    "    all_timesteps:bool=False,\n",
    ") -> LayerDataTuple:\n",
    "\n",
    "    current_t = int(viewer.dims.point[0])\n",
    "    original_shape = input_image.shape\n",
    "    labels = []\n",
    "\n",
    "    # create steps to display bit per bit\n",
    "    if all_timesteps: \n",
    "        current_t = 0\n",
    "        nb_of_timestep_to_segment = original_shape[0]\n",
    "    step = max(1, min(nb_of_timestep_to_segment, 10))\n",
    "    steps = np.linspace(current_t, max(1, nb_of_timestep_to_segment-step), int(nb_of_timestep_to_segment/step)).astype(int).tolist()\n",
    "    print(steps)\n",
    "    steps.append(nb_of_timestep_to_segment)\n",
    "\n",
    "    for i in trange(len(segmentation_methods_container), label=\"Methods\"):\n",
    "        if segmentation_methods_container[i][0].value:\n",
    "            mask = np.zeros(original_shape, dtype=bool)\n",
    "\n",
    "            dict_params = segmentation_methods_params_table[i].to_dict()\n",
    "            dict_params = dict_params[list(dict_params)[0]]\n",
    "\n",
    "            for j in trange(len(steps)-1, label=\"steps\"):\n",
    "                t = steps[j]\n",
    "                crop = input_image[t:t+steps[j+1]]\n",
    "                mask_t = segmentation_methods_func[i](crop, dict_params).get_segmentation()\n",
    "                mask[t:t+steps[j+1]] = mask_t\n",
    "\n",
    "            print(steps[-1],nb_of_timestep_to_segment)\n",
    "            crop = input_image[steps[-1]:nb_of_timestep_to_segment]\n",
    "            mask_t = segmentation_methods_func[i](crop, dict_params).get_segmentation()\n",
    "            mask[steps[-1]:nb_of_timestep_to_segment] = mask_t\n",
    "\n",
    "            labels.append((mask, {'name':segmentation_methods_func[i].name}, \"Labels\"))\n",
    "\n",
    "    return labels\n",
    "\n",
    "\n",
    "viewer.window.add_dock_widget(segmentation_widget)\n",
    "\n",
    "segmentation_widget.insert(1, segmentation_methods_container)\n",
    "delattr(segmentation_widget, \"holder\")"
   ]
  },
  {
   "cell_type": "code",
   "execution_count": 7,
   "metadata": {},
   "outputs": [
    {
     "data": {
      "text/plain": [
       "<napari._qt.widgets.qt_viewer_dock_widget.QtViewerDockWidget at 0x7f0207ff5790>"
      ]
     },
     "execution_count": 7,
     "metadata": {},
     "output_type": "execute_result"
    }
   ],
   "source": [
    "@magicgui(\n",
    "    call_button='get holes mask'\n",
    ")\n",
    "def inverse_mask(\n",
    "    mask_label: LabelsData,\n",
    ") -> LabelsData:\n",
    "    holes_mask = np.zeros(mask_label.shape).astype(int)\n",
    "    for i in trange(len(mask_label)-1, label=\"time\"):\n",
    "        holes_mask[i:i+1] = get_holes_mask(mask_label[i])\n",
    "    holes_mask[len(holes_mask)-1:] = get_holes_mask(mask_label[len(holes_mask)-1])\n",
    "    print(np.unique(holes_mask))\n",
    "    return holes_mask\n",
    "# add our new magicgui widget to the viewer\n",
    "\n",
    "viewer.window.add_dock_widget(inverse_mask)"
   ]
  },
  {
   "cell_type": "code",
   "execution_count": 8,
   "metadata": {},
   "outputs": [
    {
     "data": {
      "text/plain": [
       "2"
      ]
     },
     "execution_count": 8,
     "metadata": {},
     "output_type": "execute_result"
    }
   ],
   "source": [
    "1+1"
   ]
  },
  {
   "cell_type": "code",
   "execution_count": 9,
   "metadata": {},
   "outputs": [
    {
     "data": {
      "text/plain": [
       "<napari._qt.widgets.qt_viewer_dock_widget.QtViewerDockWidget at 0x7f0207fff310>"
      ]
     },
     "execution_count": 9,
     "metadata": {},
     "output_type": "execute_result"
    },
    {
     "ename": "",
     "evalue": "",
     "output_type": "error",
     "traceback": [
      "\u001b[1;31mThe Kernel crashed while executing code in the the current cell or a previous cell. Please review the code in the cell(s) to identify a possible cause of the failure. Click <a href='https://aka.ms/vscodeJupyterKernelCrash'>here</a> for more info. View Jupyter <a href='command:jupyter.viewOutput'>log</a> for further details."
     ]
    }
   ],
   "source": [
    "@magicgui(\n",
    "    call_button='save tif image'\n",
    ")\n",
    "def save_tiff_wgt(\n",
    "    mask_label: LabelsData,\n",
    "    filename=pathlib.Path(params['output']['path']),\n",
    "):\n",
    "    print(\"gere\")\n",
    "    im_axes = params['output']['axes']\n",
    "    save_tiff(filename, mask_label, im_axes)\n",
    "# add our new magicgui widget to the viewer\n",
    "\n",
    "viewer.window.add_dock_widget(save_tiff_wgt)"
   ]
  }
 ],
 "metadata": {
  "kernelspec": {
   "display_name": "Python 3.8.13 ('placozoa')",
   "language": "python",
   "name": "python3"
  },
  "language_info": {
   "codemirror_mode": {
    "name": "ipython",
    "version": 3
   },
   "file_extension": ".py",
   "mimetype": "text/x-python",
   "name": "python",
   "nbconvert_exporter": "python",
   "pygments_lexer": "ipython3",
   "version": "3.8.13"
  },
  "orig_nbformat": 4,
  "vscode": {
   "interpreter": {
    "hash": "e5d2bb08a444509dc093275cd7ebe749a8ff1ef1fc396d5742d9248a0f92afe0"
   }
  }
 },
 "nbformat": 4,
 "nbformat_minor": 2
}
