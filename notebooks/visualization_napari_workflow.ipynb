{
 "cells": [
  {
   "cell_type": "markdown",
   "metadata": {},
   "source": [
    "# Walkthrough using napari\n",
    "From raw image to plot the area through time of the wound"
   ]
  },
  {
   "cell_type": "code",
   "execution_count": 13,
   "metadata": {},
   "outputs": [],
   "source": [
    "import napari\n",
    "from magicgui import magicgui\n",
    "from napari.types import ImageData, LabelsData\n",
    "from enum import Enum\n",
    "\n",
    "import numpy as np"
   ]
  },
  {
   "cell_type": "code",
   "execution_count": 2,
   "metadata": {},
   "outputs": [
    {
     "name": "stderr",
     "output_type": "stream",
     "text": [
      "2022-06-26 11:27:29.474086: I tensorflow/core/util/util.cc:169] oneDNN custom operations are on. You may see slightly different numerical results due to floating-point round-off errors from different computation orders. To turn them off, set the environment variable `TF_ENABLE_ONEDNN_OPTS=0`.\n",
      "2022-06-26 11:27:29.477287: W tensorflow/stream_executor/platform/default/dso_loader.cc:64] Could not load dynamic library 'libcudart.so.11.0'; dlerror: libcudart.so.11.0: cannot open shared object file: No such file or directory\n",
      "2022-06-26 11:27:29.477312: I tensorflow/stream_executor/cuda/cudart_stub.cc:29] Ignore above cudart dlerror if you do not have a GPU set up on your machine.\n",
      "/home/clement/Documents/centuri-hackaton/venv/lib/python3.8/site-packages/napari_tools_menu/__init__.py:179: FutureWarning: Public access to Window.qt_viewer is deprecated and will be removed in\n",
      "v0.5.0. It is considered an \"implementation detail\" of the napari\n",
      "application, not part of the napari viewer model. If your use case\n",
      "requires access to qt_viewer, please open an issue to discuss.\n",
      "  self.tools_menu = ToolsMenu(self, self.qt_viewer.viewer)\n"
     ]
    }
   ],
   "source": [
    "viewer = napari.Viewer()"
   ]
  },
  {
   "cell_type": "code",
   "execution_count": 3,
   "metadata": {},
   "outputs": [],
   "source": [
    "from base_segmentation import Otsu, YAPIC, ChanVese\n",
    "from utils import load_params, load_tiff, save_tiff\n",
    "from pathlib import Path"
   ]
  },
  {
   "cell_type": "code",
   "execution_count": 4,
   "metadata": {},
   "outputs": [],
   "source": [
    "# load all Segmentation Parameters\n",
    "\n",
    "param_path_otsu = Path('../parameters/default_otsu.yml')\n",
    "params_otsu = load_params(param_path_otsu)\n",
    "segmentator_params_otsu = params_otsu[\"otsu\"]\n",
    "param_path_yapic = Path('../parameters/default_YAPIC.yml')\n",
    "params_yapic = load_params(param_path_yapic)\n",
    "segmentator_params_yapic = params_yapic[\"yapic\"]\n",
    "param_path_chanvese = Path('../parameters/default_chanvese.yml')\n",
    "params_chanvese = load_params(param_path_chanvese)\n",
    "segmentator_params_chanvese = params_chanvese[\"chanvese\"]"
   ]
  },
  {
   "cell_type": "code",
   "execution_count": 5,
   "metadata": {},
   "outputs": [
    {
     "data": {
      "text/plain": [
       "<napari._qt.widgets.qt_viewer_dock_widget.QtViewerDockWidget at 0x7f371417d3a0>"
      ]
     },
     "execution_count": 5,
     "metadata": {},
     "output_type": "execute_result"
    }
   ],
   "source": [
    "\n",
    "import pathlib\n",
    "\n",
    "@magicgui(\n",
    "    call_button=\"Load tif image\"\n",
    ")\n",
    "def image_loader(\n",
    "    filename=pathlib.Path(params_otsu[\"input\"][\"path\"])\n",
    ") -> ImageData:\n",
    "    im_axes = params_otsu[\"input\"][\"axes\"]\n",
    "    im = load_tiff(filename, im_axes)\n",
    "    return im\n",
    "# add our new magicgui widget to the viewer\n",
    "\n",
    "viewer.window.add_dock_widget(image_loader)"
   ]
  },
  {
   "cell_type": "code",
   "execution_count": 15,
   "metadata": {},
   "outputs": [
    {
     "data": {
      "text/plain": [
       "{'disk_size': 4, 'iteration_nb': 10}"
      ]
     },
     "execution_count": 15,
     "metadata": {},
     "output_type": "execute_result"
    }
   ],
   "source": [
    "segmentator_params_chanvese"
   ]
  },
  {
   "cell_type": "code",
   "execution_count": 16,
   "metadata": {},
   "outputs": [
    {
     "data": {
      "text/plain": [
       "<napari._qt.widgets.qt_viewer_dock_widget.QtViewerDockWidget at 0x7f370641a790>"
      ]
     },
     "execution_count": 16,
     "metadata": {},
     "output_type": "execute_result"
    }
   ],
   "source": [
    "@magicgui(call_button=\"Segment input image using Chan Vese\",)\n",
    "def chanvese_widget(\n",
    "    input_image: ImageData,\n",
    "    disk_size:int=segmentator_params_chanvese[\"disk_size\"],\n",
    "    iteration_nb:int=segmentator_params_chanvese[\"iteration_nb\"],\n",
    "    nb_of_timestep_to_segment:int=10,\n",
    ") -> LabelsData:\n",
    "    \"\"\"Compute Chan Vese segmentation\"\"\"\n",
    "    mask = np.zeros(input_image.shape, dtype=bool)\n",
    "    t = int(viewer.dims.point[0])\n",
    "    input_image = input_image[t:t+nb_of_timestep_to_segment]\n",
    "\n",
    "    segmentator_params_chanvese[\"disk_size\"] = disk_size\n",
    "    segmentator_params_chanvese[\"iteration_nb\"] = iteration_nb\n",
    "    segmentator = ChanVese(input_image, params=segmentator_params_chanvese)\n",
    "    mask_t = segmentator.get_segmentation()\n",
    "    mask[t:t+nb_of_timestep_to_segment] = mask_t\n",
    "    return mask\n",
    "\n",
    "# add our new magicgui widget to the viewer\n",
    "viewer.window.add_dock_widget(chanvese_widget)\n"
   ]
  },
  {
   "cell_type": "code",
   "execution_count": 20,
   "metadata": {},
   "outputs": [
    {
     "data": {
      "text/plain": [
       "<napari._qt.widgets.qt_viewer_dock_widget.QtViewerDockWidget at 0x7f37063ce700>"
      ]
     },
     "execution_count": 20,
     "metadata": {},
     "output_type": "execute_result"
    }
   ],
   "source": [
    "@magicgui(\n",
    "    call_button=\"save tif image\"\n",
    ")\n",
    "def save_tiff_wgt(\n",
    "    mask_label: LabelsData,\n",
    "    filename=pathlib.Path(params_otsu[\"output\"][\"path\"]),\n",
    "):\n",
    "    im_axes = params_otsu[\"output\"][\"axes\"]\n",
    "    save_tiff(filename, mask_label, im_axes)\n",
    "# add our new magicgui widget to the viewer\n",
    "\n",
    "viewer.window.add_dock_widget(save_tiff_wgt)"
   ]
  },
  {
   "cell_type": "code",
   "execution_count": 8,
   "metadata": {},
   "outputs": [
    {
     "data": {
      "text/plain": [
       "(519.0, 288.0, 288.0)"
      ]
     },
     "execution_count": 8,
     "metadata": {},
     "output_type": "execute_result"
    }
   ],
   "source": [
    "@magicgui(call_button=\"Segment input image using Chan Vese\",)\n",
    "def find_holes_mask(\n",
    "    input_image: ImageData,\n",
    "    disk_size:int=segmentator_params_chanvese[\"disk_size\"],\n",
    "    iteration_nb:int=segmentator_params_chanvese[\"iteration_nb\"],\n",
    "    nb_of_timestep_to_segment:int=10,\n",
    ") -> LabelsData:\n",
    "    \"\"\"Compute Chan Vese segmentation\"\"\"\n",
    "    mask = np.zeros(input_image.shape, dtype=bool)\n",
    "    t = int(viewer.dims.point[0])\n",
    "    input_image = input_image[t:t+nb_of_timestep_to_segment]\n",
    "\n",
    "    segmentator_params_chanvese[\"disk_size\"] = disk_size\n",
    "    segmentator_params_chanvese[\"iteration_nb\"] = iteration_nb\n",
    "    segmentator = ChanVese(input_image, params=segmentator_params_chanvese)\n",
    "    mask_t = segmentator.get_segmentation()\n",
    "    mask[t:t+nb_of_timestep_to_segment] = mask_t\n",
    "    return mask\n",
    "\n",
    "# add our new magicgui widget to the viewer\n",
    "viewer.window.add_dock_widget(chanvese_widget)\n"
   ]
  },
  {
   "cell_type": "code",
   "execution_count": null,
   "metadata": {},
   "outputs": [],
   "source": [
    "# load image\n",
    "\n",
    "im_path = Path(params[\"input\"][\"path\"])\n",
    "im_axes = params[\"input\"][\"axes\"]\n",
    "im = load_tiff(im_path, im_axes)[:10] # take only a slice of the image for demo"
   ]
  },
  {
   "cell_type": "code",
   "execution_count": 14,
   "metadata": {},
   "outputs": [
    {
     "name": "stderr",
     "output_type": "stream",
     "text": [
      "/home/clement/Documents/centuri-hackaton/venv/lib/python3.8/site-packages/napari_tools_menu/__init__.py:179: FutureWarning: Public access to Window.qt_viewer is deprecated and will be removed in\n",
      "v0.5.0. It is considered an \"implementation detail\" of the napari\n",
      "application, not part of the napari viewer model. If your use case\n",
      "requires access to qt_viewer, please open an issue to discuss.\n",
      "  self.tools_menu = ToolsMenu(self, self.qt_viewer.viewer)\n"
     ]
    }
   ],
   "source": [
    "viewer = napari.Viewer()"
   ]
  },
  {
   "cell_type": "code",
   "execution_count": 33,
   "metadata": {},
   "outputs": [
    {
     "ename": "TypeError",
     "evalue": "Annotated[t, ...]: t must be a type. Got [<function yapic_wrapper at 0x7fc2dc4c4160>, <function find_outer_edge at 0x7fc3345fd9d0>].",
     "output_type": "error",
     "traceback": [
      "\u001b[0;31m---------------------------------------------------------------------------\u001b[0m",
      "\u001b[0;31mTypeError\u001b[0m                                 Traceback (most recent call last)",
      "\u001b[1;32m/home/clement/Documents/centuri-hackaton/placozoa-tracking/notebooks/napari_vizualisation.ipynb Cell 3'\u001b[0m in \u001b[0;36m<cell line: 21>\u001b[0;34m()\u001b[0m\n\u001b[1;32m     <a href='vscode-notebook-cell:/home/clement/Documents/centuri-hackaton/placozoa-tracking/notebooks/napari_vizualisation.ipynb#ch0000007?line=15'>16</a>\u001b[0m mode\u001b[39m=\u001b[39m{\u001b[39m\"\u001b[39m\u001b[39mchoices\u001b[39m\u001b[39m\"\u001b[39m: [\u001b[39m\"\u001b[39m\u001b[39mreflect\u001b[39m\u001b[39m\"\u001b[39m, \u001b[39m\"\u001b[39m\u001b[39mconstant\u001b[39m\u001b[39m\"\u001b[39m, \u001b[39m\"\u001b[39m\u001b[39mnearest\u001b[39m\u001b[39m\"\u001b[39m, \u001b[39m\"\u001b[39m\u001b[39mmirror\u001b[39m\u001b[39m\"\u001b[39m, \u001b[39m\"\u001b[39m\u001b[39mwrap\u001b[39m\u001b[39m\"\u001b[39m]},\n\u001b[1;32m     <a href='vscode-notebook-cell:/home/clement/Documents/centuri-hackaton/placozoa-tracking/notebooks/napari_vizualisation.ipynb#ch0000007?line=17'>18</a>\u001b[0m \u001b[39m# here's the magicgui!  We also use the additional\u001b[39;00m\n\u001b[1;32m     <a href='vscode-notebook-cell:/home/clement/Documents/centuri-hackaton/placozoa-tracking/notebooks/napari_vizualisation.ipynb#ch0000007?line=18'>19</a>\u001b[0m \u001b[39m# `call_button` option\u001b[39;00m\n\u001b[1;32m     <a href='vscode-notebook-cell:/home/clement/Documents/centuri-hackaton/placozoa-tracking/notebooks/napari_vizualisation.ipynb#ch0000007?line=20'>21</a>\u001b[0m \u001b[39m@magicgui\u001b[39;49m(call_button\u001b[39m=\u001b[39;49m\u001b[39m\"\u001b[39;49m\u001b[39mexecute\u001b[39;49m\u001b[39m\"\u001b[39;49m,\n\u001b[1;32m     <a href='vscode-notebook-cell:/home/clement/Documents/centuri-hackaton/placozoa-tracking/notebooks/napari_vizualisation.ipynb#ch0000007?line=21'>22</a>\u001b[0m segmentation\u001b[39m=\u001b[39;49m{\u001b[39m\"\u001b[39;49m\u001b[39mchoices\u001b[39;49m\u001b[39m\"\u001b[39;49m: [\u001b[39m\"\u001b[39;49m\u001b[39myapic\u001b[39;49m\u001b[39m\"\u001b[39;49m, \u001b[39m\"\u001b[39;49m\u001b[39mfind_outer_edge\u001b[39;49m\u001b[39m\"\u001b[39;49m]})\n\u001b[0;32m---> <a href='vscode-notebook-cell:/home/clement/Documents/centuri-hackaton/placozoa-tracking/notebooks/napari_vizualisation.ipynb#ch0000007?line=22'>23</a>\u001b[0m \u001b[39mdef\u001b[39;49;00m \u001b[39mimage_arithmetic\u001b[39;49m(\n\u001b[1;32m     <a href='vscode-notebook-cell:/home/clement/Documents/centuri-hackaton/placozoa-tracking/notebooks/napari_vizualisation.ipynb#ch0000007?line=23'>24</a>\u001b[0m     layerA: ImageData, segmentation: test, layerB: ImageData\n\u001b[1;32m     <a href='vscode-notebook-cell:/home/clement/Documents/centuri-hackaton/placozoa-tracking/notebooks/napari_vizualisation.ipynb#ch0000007?line=24'>25</a>\u001b[0m ) \u001b[39m-\u001b[39;49m\u001b[39m>\u001b[39;49m ImageData:\n\u001b[1;32m     <a href='vscode-notebook-cell:/home/clement/Documents/centuri-hackaton/placozoa-tracking/notebooks/napari_vizualisation.ipynb#ch0000007?line=25'>26</a>\u001b[0m     \u001b[39m\"\"\"Add, subtracts, multiplies, or divides to image layers.\"\"\"\u001b[39;49;00m\n\u001b[1;32m     <a href='vscode-notebook-cell:/home/clement/Documents/centuri-hackaton/placozoa-tracking/notebooks/napari_vizualisation.ipynb#ch0000007?line=26'>27</a>\u001b[0m     \u001b[39mreturn\u001b[39;49;00m segmentation\n",
      "File \u001b[0;32m~/Documents/centuri-hackaton/venv/lib/python3.8/site-packages/magicgui/_magicgui.py:246\u001b[0m, in \u001b[0;36m_magicgui.<locals>.inner_func\u001b[0;34m(func)\u001b[0m\n\u001b[1;32m    241\u001b[0m     \u001b[39mreturn\u001b[39;00m MagicFactory(\n\u001b[1;32m    242\u001b[0m         func, magic_class\u001b[39m=\u001b[39mmagic_class, widget_init\u001b[39m=\u001b[39mwidget_init, \u001b[39m*\u001b[39m\u001b[39m*\u001b[39mkwargs\n\u001b[1;32m    243\u001b[0m     )\n\u001b[1;32m    244\u001b[0m \u001b[39m# MagicFactory is unnecessary if we are immediately instantiating the widget,\u001b[39;00m\n\u001b[1;32m    245\u001b[0m \u001b[39m# so we shortcut that and just return the FunctionGui here.\u001b[39;00m\n\u001b[0;32m--> 246\u001b[0m \u001b[39mreturn\u001b[39;00m magic_class(func, \u001b[39m*\u001b[39;49m\u001b[39m*\u001b[39;49mkwargs)\n",
      "File \u001b[0;32m~/Documents/centuri-hackaton/venv/lib/python3.8/site-packages/magicgui/widgets/_function_gui.py:154\u001b[0m, in \u001b[0;36mFunctionGui.__init__\u001b[0;34m(self, function, call_button, layout, scrollable, labels, tooltips, app, visible, auto_call, result_widget, param_options, name, persist, **kwargs)\u001b[0m\n\u001b[1;32m    151\u001b[0m \u001b[39melif\u001b[39;00m \u001b[39mnot\u001b[39;00m \u001b[39misinstance\u001b[39m(param_options, \u001b[39mdict\u001b[39m):\n\u001b[1;32m    152\u001b[0m     \u001b[39mraise\u001b[39;00m \u001b[39mTypeError\u001b[39;00m(\u001b[39m\"\u001b[39m\u001b[39m'\u001b[39m\u001b[39mparam_options\u001b[39m\u001b[39m'\u001b[39m\u001b[39m must be a dict of dicts\u001b[39m\u001b[39m\"\u001b[39m)\n\u001b[0;32m--> 154\u001b[0m sig \u001b[39m=\u001b[39m magic_signature(function, gui_options\u001b[39m=\u001b[39;49mparam_options)\n\u001b[1;32m    155\u001b[0m \u001b[39mself\u001b[39m\u001b[39m.\u001b[39mreturn_annotation \u001b[39m=\u001b[39m sig\u001b[39m.\u001b[39mreturn_annotation\n\u001b[1;32m    156\u001b[0m \u001b[39mif\u001b[39;00m tooltips:\n",
      "File \u001b[0;32m~/Documents/centuri-hackaton/venv/lib/python3.8/site-packages/magicgui/signature.py:300\u001b[0m, in \u001b[0;36mmagic_signature\u001b[0;34m(obj, gui_options, follow_wrapped)\u001b[0m\n\u001b[1;32m    297\u001b[0m         s \u001b[39m=\u001b[39m \u001b[39m\"\u001b[39m\u001b[39ms\u001b[39m\u001b[39m\"\u001b[39m \u001b[39mif\u001b[39;00m \u001b[39mlen\u001b[39m(bad) \u001b[39m>\u001b[39m \u001b[39m1\u001b[39m \u001b[39melse\u001b[39;00m \u001b[39m\"\u001b[39m\u001b[39m\"\u001b[39m\n\u001b[1;32m    298\u001b[0m         \u001b[39mraise\u001b[39;00m \u001b[39mTypeError\u001b[39;00m(\u001b[39mf\u001b[39m\u001b[39m\"\u001b[39m\u001b[39mValue for parameter\u001b[39m\u001b[39m{\u001b[39;00ms\u001b[39m}\u001b[39;00m\u001b[39m \u001b[39m\u001b[39m{\u001b[39;00mbad\u001b[39m}\u001b[39;00m\u001b[39m must be a dict\u001b[39m\u001b[39m\"\u001b[39m)\n\u001b[0;32m--> 300\u001b[0m \u001b[39mreturn\u001b[39;00m MagicSignature\u001b[39m.\u001b[39;49mfrom_signature(sig, gui_options\u001b[39m=\u001b[39;49mgui_options)\n",
      "File \u001b[0;32m~/Documents/centuri-hackaton/venv/lib/python3.8/site-packages/magicgui/signature.py:215\u001b[0m, in \u001b[0;36mMagicSignature.from_signature\u001b[0;34m(cls, sig, gui_options)\u001b[0m\n\u001b[1;32m    213\u001b[0m \u001b[39melif\u001b[39;00m \u001b[39mnot\u001b[39;00m \u001b[39misinstance\u001b[39m(sig, inspect\u001b[39m.\u001b[39mSignature):\n\u001b[1;32m    214\u001b[0m     \u001b[39mraise\u001b[39;00m \u001b[39mTypeError\u001b[39;00m(\u001b[39m\"\u001b[39m\u001b[39m'\u001b[39m\u001b[39msig\u001b[39m\u001b[39m'\u001b[39m\u001b[39m must be an instance of \u001b[39m\u001b[39m'\u001b[39m\u001b[39minspect.Signature\u001b[39m\u001b[39m'\u001b[39m\u001b[39m\"\u001b[39m)\n\u001b[0;32m--> 215\u001b[0m \u001b[39mreturn\u001b[39;00m \u001b[39mcls\u001b[39;49m(\n\u001b[1;32m    216\u001b[0m     \u001b[39mlist\u001b[39;49m(sig\u001b[39m.\u001b[39;49mparameters\u001b[39m.\u001b[39;49mvalues()),\n\u001b[1;32m    217\u001b[0m     return_annotation\u001b[39m=\u001b[39;49msig\u001b[39m.\u001b[39;49mreturn_annotation,\n\u001b[1;32m    218\u001b[0m     gui_options\u001b[39m=\u001b[39;49mgui_options,\n\u001b[1;32m    219\u001b[0m )\n",
      "File \u001b[0;32m~/Documents/centuri-hackaton/venv/lib/python3.8/site-packages/magicgui/signature.py:202\u001b[0m, in \u001b[0;36mMagicSignature.__init__\u001b[0;34m(self, parameters, return_annotation, gui_options)\u001b[0m\n\u001b[1;32m    195\u001b[0m \u001b[39mdef\u001b[39;00m \u001b[39m__init__\u001b[39m(\n\u001b[1;32m    196\u001b[0m     \u001b[39mself\u001b[39m,\n\u001b[1;32m    197\u001b[0m     parameters: Sequence[inspect\u001b[39m.\u001b[39mParameter] \u001b[39m=\u001b[39m \u001b[39mNone\u001b[39;00m,\n\u001b[0;32m   (...)\u001b[0m\n\u001b[1;32m    200\u001b[0m     gui_options: \u001b[39mdict\u001b[39m[\u001b[39mstr\u001b[39m, \u001b[39mdict\u001b[39m] \u001b[39m=\u001b[39m \u001b[39mNone\u001b[39;00m,\n\u001b[1;32m    201\u001b[0m ):\n\u001b[0;32m--> 202\u001b[0m     params \u001b[39m=\u001b[39m [\n\u001b[1;32m    203\u001b[0m         MagicParameter\u001b[39m.\u001b[39mfrom_parameter(p, (gui_options \u001b[39mor\u001b[39;00m {})\u001b[39m.\u001b[39mget(p\u001b[39m.\u001b[39mname))\n\u001b[1;32m    204\u001b[0m         \u001b[39mfor\u001b[39;00m p \u001b[39min\u001b[39;00m parameters \u001b[39mor\u001b[39;00m []\n\u001b[1;32m    205\u001b[0m     ]\n\u001b[1;32m    206\u001b[0m     \u001b[39msuper\u001b[39m()\u001b[39m.\u001b[39m\u001b[39m__init__\u001b[39m(params, return_annotation\u001b[39m=\u001b[39mreturn_annotation)\n",
      "File \u001b[0;32m~/Documents/centuri-hackaton/venv/lib/python3.8/site-packages/magicgui/signature.py:203\u001b[0m, in \u001b[0;36m<listcomp>\u001b[0;34m(.0)\u001b[0m\n\u001b[1;32m    195\u001b[0m \u001b[39mdef\u001b[39;00m \u001b[39m__init__\u001b[39m(\n\u001b[1;32m    196\u001b[0m     \u001b[39mself\u001b[39m,\n\u001b[1;32m    197\u001b[0m     parameters: Sequence[inspect\u001b[39m.\u001b[39mParameter] \u001b[39m=\u001b[39m \u001b[39mNone\u001b[39;00m,\n\u001b[0;32m   (...)\u001b[0m\n\u001b[1;32m    200\u001b[0m     gui_options: \u001b[39mdict\u001b[39m[\u001b[39mstr\u001b[39m, \u001b[39mdict\u001b[39m] \u001b[39m=\u001b[39m \u001b[39mNone\u001b[39;00m,\n\u001b[1;32m    201\u001b[0m ):\n\u001b[1;32m    202\u001b[0m     params \u001b[39m=\u001b[39m [\n\u001b[0;32m--> 203\u001b[0m         MagicParameter\u001b[39m.\u001b[39;49mfrom_parameter(p, (gui_options \u001b[39mor\u001b[39;49;00m {})\u001b[39m.\u001b[39;49mget(p\u001b[39m.\u001b[39;49mname))\n\u001b[1;32m    204\u001b[0m         \u001b[39mfor\u001b[39;00m p \u001b[39min\u001b[39;00m parameters \u001b[39mor\u001b[39;00m []\n\u001b[1;32m    205\u001b[0m     ]\n\u001b[1;32m    206\u001b[0m     \u001b[39msuper\u001b[39m()\u001b[39m.\u001b[39m\u001b[39m__init__\u001b[39m(params, return_annotation\u001b[39m=\u001b[39mreturn_annotation)\n",
      "File \u001b[0;32m~/Documents/centuri-hackaton/venv/lib/python3.8/site-packages/magicgui/signature.py:169\u001b[0m, in \u001b[0;36mMagicParameter.from_parameter\u001b[0;34m(cls, param, gui_options)\u001b[0m\n\u001b[1;32m    167\u001b[0m \u001b[39mif\u001b[39;00m \u001b[39misinstance\u001b[39m(param, MagicParameter):\n\u001b[1;32m    168\u001b[0m     \u001b[39mreturn\u001b[39;00m param\n\u001b[0;32m--> 169\u001b[0m \u001b[39mreturn\u001b[39;00m \u001b[39mcls\u001b[39;49m(\n\u001b[1;32m    170\u001b[0m     param\u001b[39m.\u001b[39;49mname,\n\u001b[1;32m    171\u001b[0m     param\u001b[39m.\u001b[39;49mkind,\n\u001b[1;32m    172\u001b[0m     default\u001b[39m=\u001b[39;49mparam\u001b[39m.\u001b[39;49mdefault,\n\u001b[1;32m    173\u001b[0m     annotation\u001b[39m=\u001b[39;49mparam\u001b[39m.\u001b[39;49mannotation,\n\u001b[1;32m    174\u001b[0m     gui_options\u001b[39m=\u001b[39;49mgui_options,\n\u001b[1;32m    175\u001b[0m )\n",
      "File \u001b[0;32m~/Documents/centuri-hackaton/venv/lib/python3.8/site-packages/magicgui/signature.py:111\u001b[0m, in \u001b[0;36mMagicParameter.__init__\u001b[0;34m(self, name, kind, default, annotation, gui_options)\u001b[0m\n\u001b[1;32m    102\u001b[0m \u001b[39mdef\u001b[39;00m \u001b[39m__init__\u001b[39m(\n\u001b[1;32m    103\u001b[0m     \u001b[39mself\u001b[39m,\n\u001b[1;32m    104\u001b[0m     name: \u001b[39mstr\u001b[39m,\n\u001b[0;32m   (...)\u001b[0m\n\u001b[1;32m    109\u001b[0m     gui_options: \u001b[39mdict\u001b[39m \u001b[39m=\u001b[39m \u001b[39mNone\u001b[39;00m,\n\u001b[1;32m    110\u001b[0m ):\n\u001b[0;32m--> 111\u001b[0m     _annotation \u001b[39m=\u001b[39m make_annotated(annotation, gui_options)\n\u001b[1;32m    112\u001b[0m     \u001b[39msuper\u001b[39m()\u001b[39m.\u001b[39m\u001b[39m__init__\u001b[39m(name, kind, default\u001b[39m=\u001b[39mdefault, annotation\u001b[39m=\u001b[39m_annotation)\n",
      "File \u001b[0;32m~/Documents/centuri-hackaton/venv/lib/python3.8/site-packages/magicgui/signature.py:62\u001b[0m, in \u001b[0;36mmake_annotated\u001b[0;34m(annotation, options)\u001b[0m\n\u001b[1;32m     60\u001b[0m     _options\u001b[39m.\u001b[39mupdate(anno_options)\n\u001b[1;32m     61\u001b[0m     annotation \u001b[39m=\u001b[39m hint\n\u001b[0;32m---> 62\u001b[0m \u001b[39mreturn\u001b[39;00m Annotated[annotation, _options]\n",
      "File \u001b[0;32m~/miniconda3/lib/python3.8/typing.py:261\u001b[0m, in \u001b[0;36m_tp_cache.<locals>.inner\u001b[0;34m(*args, **kwds)\u001b[0m\n\u001b[1;32m    259\u001b[0m \u001b[39mexcept\u001b[39;00m \u001b[39mTypeError\u001b[39;00m:\n\u001b[1;32m    260\u001b[0m     \u001b[39mpass\u001b[39;00m  \u001b[39m# All real errors (not unhashable args) are raised below.\u001b[39;00m\n\u001b[0;32m--> 261\u001b[0m \u001b[39mreturn\u001b[39;00m func(\u001b[39m*\u001b[39;49margs, \u001b[39m*\u001b[39;49m\u001b[39m*\u001b[39;49mkwds)\n",
      "File \u001b[0;32m~/Documents/centuri-hackaton/venv/lib/python3.8/site-packages/typing_extensions.py:982\u001b[0m, in \u001b[0;36mAnnotated.__class_getitem__\u001b[0;34m(cls, params)\u001b[0m\n\u001b[1;32m    980\u001b[0m \u001b[39melse\u001b[39;00m:\n\u001b[1;32m    981\u001b[0m     msg \u001b[39m=\u001b[39m \u001b[39m\"\u001b[39m\u001b[39mAnnotated[t, ...]: t must be a type.\u001b[39m\u001b[39m\"\u001b[39m\n\u001b[0;32m--> 982\u001b[0m     origin \u001b[39m=\u001b[39m typing\u001b[39m.\u001b[39;49m_type_check(params[\u001b[39m0\u001b[39;49m], msg)\n\u001b[1;32m    983\u001b[0m metadata \u001b[39m=\u001b[39m \u001b[39mtuple\u001b[39m(params[\u001b[39m1\u001b[39m:])\n\u001b[1;32m    984\u001b[0m \u001b[39mreturn\u001b[39;00m _AnnotatedAlias(origin, metadata)\n",
      "File \u001b[0;32m~/miniconda3/lib/python3.8/typing.py:149\u001b[0m, in \u001b[0;36m_type_check\u001b[0;34m(arg, msg, is_argument)\u001b[0m\n\u001b[1;32m    147\u001b[0m     \u001b[39mreturn\u001b[39;00m arg\n\u001b[1;32m    148\u001b[0m \u001b[39mif\u001b[39;00m \u001b[39mnot\u001b[39;00m callable(arg):\n\u001b[0;32m--> 149\u001b[0m     \u001b[39mraise\u001b[39;00m \u001b[39mTypeError\u001b[39;00m(\u001b[39mf\u001b[39m\u001b[39m\"\u001b[39m\u001b[39m{\u001b[39;00mmsg\u001b[39m}\u001b[39;00m\u001b[39m Got \u001b[39m\u001b[39m{\u001b[39;00marg\u001b[39m!r:\u001b[39;00m\u001b[39m.100\u001b[39m\u001b[39m}\u001b[39;00m\u001b[39m.\u001b[39m\u001b[39m\"\u001b[39m)\n\u001b[1;32m    150\u001b[0m \u001b[39mreturn\u001b[39;00m arg\n",
      "\u001b[0;31mTypeError\u001b[0m: Annotated[t, ...]: t must be a type. Got [<function yapic_wrapper at 0x7fc2dc4c4160>, <function find_outer_edge at 0x7fc3345fd9d0>]."
     ]
    }
   ],
   "source": [
    "from enum import Enum\n",
    "\n",
    "import numpy\n",
    "import napari\n",
    "from napari.types import ImageData\n",
    "\n",
    "from magicgui import magicgui\n",
    "\n",
    "class Operation(Enum):\n",
    "    add = yapic_wrapper\n",
    "    subtract = numpy.subtract\n",
    "    multiply = numpy.multiply\n",
    "    divide = numpy.divide\n",
    "\n",
    "test = [yapic_wrapper, find_outer_edge]\n",
    "mode={\"choices\": [\"reflect\", \"constant\", \"nearest\", \"mirror\", \"wrap\"]},\n",
    "\n",
    "# here's the magicgui!  We also use the additional\n",
    "# `call_button` option\n",
    "\n",
    "@magicgui(call_button=\"execute\",\n",
    "segmentation={\"choices\": [\"yapic\", \"find_outer_edge\"]})\n",
    "def image_arithmetic(\n",
    "    layerA: ImageData, segmentation: test, layerB: ImageData\n",
    ") -> ImageData:\n",
    "    \"\"\"Add, subtracts, multiplies, or divides to image layers.\"\"\"\n",
    "    return segmentation\n",
    "\n",
    "# create a viewer and add a couple image layers\n",
    "viewer = napari.Viewer()\n",
    "viewer.add_image(numpy.random.rand(20, 20), name=\"Layer 1\")\n",
    "viewer.add_image(numpy.random.rand(20, 20), name=\"Layer 2\")\n",
    "\n",
    "# add our new magicgui widget to the viewer\n",
    "\n",
    "viewer.window.add_dock_widget(image_arithmetic)\n",
    "\n",
    "\n",
    "# keep the dropdown menus in the gui in sync with the layer model\n",
    "viewer.layers.events.inserted.connect(image_arithmetic.reset_choices)\n",
    "viewer.layers.events.removed.connect(image_arithmetic.reset_choices)\n",
    "\n",
    "napari.run()"
   ]
  },
  {
   "cell_type": "code",
   "execution_count": 15,
   "metadata": {},
   "outputs": [],
   "source": [
    "class Segmentation(Enum):\n",
    "    \"\"\"\n",
    "    \"\"\"\n",
    "    yapic = yapic_wrapper\n",
    "    find_outer_edge = find_outer_edge"
   ]
  },
  {
   "cell_type": "code",
   "execution_count": 27,
   "metadata": {},
   "outputs": [
    {
     "ename": "ValueError",
     "evalue": "'yapic' is not a valid choice. must be in ()",
     "output_type": "error",
     "traceback": [
      "\u001b[0;31m---------------------------------------------------------------------------\u001b[0m",
      "\u001b[0;31mValueError\u001b[0m                                Traceback (most recent call last)",
      "\u001b[1;32m/home/clement/Documents/centuri-hackaton/placozoa-tracking/notebooks/napari_vizualisation.ipynb Cell 4'\u001b[0m in \u001b[0;36m<cell line: 1>\u001b[0;34m()\u001b[0m\n\u001b[1;32m      <a href='vscode-notebook-cell:/home/clement/Documents/centuri-hackaton/placozoa-tracking/notebooks/napari_vizualisation.ipynb#ch0000002?line=0'>1</a>\u001b[0m \u001b[39m@magicgui\u001b[39;49m(call_button\u001b[39m=\u001b[39;49m\u001b[39m\"\u001b[39;49m\u001b[39mexecute\u001b[39;49m\u001b[39m\"\u001b[39;49m)\n\u001b[0;32m----> <a href='vscode-notebook-cell:/home/clement/Documents/centuri-hackaton/placozoa-tracking/notebooks/napari_vizualisation.ipynb#ch0000002?line=1'>2</a>\u001b[0m \u001b[39mdef\u001b[39;49;00m \u001b[39mimage_arithmetic\u001b[39;49m(\n\u001b[1;32m      <a href='vscode-notebook-cell:/home/clement/Documents/centuri-hackaton/placozoa-tracking/notebooks/napari_vizualisation.ipynb#ch0000002?line=2'>3</a>\u001b[0m     layerA: ImageData, segmentation: Segmentation\u001b[39m=\u001b[39;49m\u001b[39m\"\u001b[39;49m\u001b[39myapic\u001b[39;49m\u001b[39m\"\u001b[39;49m\n\u001b[1;32m      <a href='vscode-notebook-cell:/home/clement/Documents/centuri-hackaton/placozoa-tracking/notebooks/napari_vizualisation.ipynb#ch0000002?line=3'>4</a>\u001b[0m ) \u001b[39m-\u001b[39;49m\u001b[39m>\u001b[39;49m ImageData:\n\u001b[1;32m      <a href='vscode-notebook-cell:/home/clement/Documents/centuri-hackaton/placozoa-tracking/notebooks/napari_vizualisation.ipynb#ch0000002?line=4'>5</a>\u001b[0m     \u001b[39m\"\"\"Add, subtracts, multiplies, or divides to image layers.\"\"\"\u001b[39;49;00m\n\u001b[1;32m      <a href='vscode-notebook-cell:/home/clement/Documents/centuri-hackaton/placozoa-tracking/notebooks/napari_vizualisation.ipynb#ch0000002?line=5'>6</a>\u001b[0m     \u001b[39mreturn\u001b[39;49;00m segmentation\u001b[39m.\u001b[39;49mvalue(layerA, layerB)\n",
      "File \u001b[0;32m~/Documents/centuri-hackaton/venv/lib/python3.8/site-packages/magicgui/_magicgui.py:246\u001b[0m, in \u001b[0;36m_magicgui.<locals>.inner_func\u001b[0;34m(func)\u001b[0m\n\u001b[1;32m    241\u001b[0m     \u001b[39mreturn\u001b[39;00m MagicFactory(\n\u001b[1;32m    242\u001b[0m         func, magic_class\u001b[39m=\u001b[39mmagic_class, widget_init\u001b[39m=\u001b[39mwidget_init, \u001b[39m*\u001b[39m\u001b[39m*\u001b[39mkwargs\n\u001b[1;32m    243\u001b[0m     )\n\u001b[1;32m    244\u001b[0m \u001b[39m# MagicFactory is unnecessary if we are immediately instantiating the widget,\u001b[39;00m\n\u001b[1;32m    245\u001b[0m \u001b[39m# so we shortcut that and just return the FunctionGui here.\u001b[39;00m\n\u001b[0;32m--> 246\u001b[0m \u001b[39mreturn\u001b[39;00m magic_class(func, \u001b[39m*\u001b[39;49m\u001b[39m*\u001b[39;49mkwargs)\n",
      "File \u001b[0;32m~/Documents/centuri-hackaton/venv/lib/python3.8/site-packages/magicgui/widgets/_function_gui.py:181\u001b[0m, in \u001b[0;36mFunctionGui.__init__\u001b[0;34m(self, function, call_button, layout, scrollable, labels, tooltips, app, visible, auto_call, result_widget, param_options, name, persist, **kwargs)\u001b[0m\n\u001b[1;32m    173\u001b[0m         name \u001b[39m=\u001b[39m \u001b[39mf\u001b[39m\u001b[39m\"\u001b[39m\u001b[39m{\u001b[39;00mfunction\u001b[39m.\u001b[39m\u001b[39m__module__\u001b[39m\u001b[39m}\u001b[39;00m\u001b[39m.\u001b[39m\u001b[39m{\u001b[39;00mfunction\u001b[39m.\u001b[39m\u001b[39m__class__\u001b[39m\u001b[39m}\u001b[39;00m\u001b[39m\"\u001b[39m\n\u001b[1;32m    174\u001b[0m \u001b[39mself\u001b[39m\u001b[39m.\u001b[39m_callable_name \u001b[39m=\u001b[39m name\n\u001b[1;32m    176\u001b[0m \u001b[39msuper\u001b[39m()\u001b[39m.\u001b[39m\u001b[39m__init__\u001b[39m(\n\u001b[1;32m    177\u001b[0m     layout\u001b[39m=\u001b[39mlayout,\n\u001b[1;32m    178\u001b[0m     scrollable\u001b[39m=\u001b[39mscrollable,\n\u001b[1;32m    179\u001b[0m     labels\u001b[39m=\u001b[39mlabels,\n\u001b[1;32m    180\u001b[0m     visible\u001b[39m=\u001b[39mvisible,\n\u001b[0;32m--> 181\u001b[0m     widgets\u001b[39m=\u001b[39m\u001b[39mlist\u001b[39m(sig\u001b[39m.\u001b[39;49mwidgets(app)\u001b[39m.\u001b[39mvalues()),\n\u001b[1;32m    182\u001b[0m     name\u001b[39m=\u001b[39mname \u001b[39mor\u001b[39;00m \u001b[39mself\u001b[39m\u001b[39m.\u001b[39m_callable_name,\n\u001b[1;32m    183\u001b[0m )\n\u001b[1;32m    184\u001b[0m \u001b[39mself\u001b[39m\u001b[39m.\u001b[39m_param_options \u001b[39m=\u001b[39m param_options\n\u001b[1;32m    185\u001b[0m \u001b[39mself\u001b[39m\u001b[39m.\u001b[39m_result_name \u001b[39m=\u001b[39m \u001b[39m\"\u001b[39m\u001b[39m\"\u001b[39m\n",
      "File \u001b[0;32m~/Documents/centuri-hackaton/venv/lib/python3.8/site-packages/magicgui/signature.py:224\u001b[0m, in \u001b[0;36mMagicSignature.widgets\u001b[0;34m(self, app)\u001b[0m\n\u001b[1;32m    221\u001b[0m \u001b[39mdef\u001b[39;00m \u001b[39mwidgets\u001b[39m(\u001b[39mself\u001b[39m, app: AppRef \u001b[39m=\u001b[39m \u001b[39mNone\u001b[39;00m) \u001b[39m-\u001b[39m\u001b[39m>\u001b[39m MappingProxyType:\n\u001b[1;32m    222\u001b[0m     \u001b[39m\"\"\"Return mapping from parameters to widgets for all params in Signature.\"\"\"\u001b[39;00m\n\u001b[1;32m    223\u001b[0m     \u001b[39mreturn\u001b[39;00m MappingProxyType(\n\u001b[0;32m--> 224\u001b[0m         {n: p\u001b[39m.\u001b[39mto_widget(app) \u001b[39mfor\u001b[39;00m n, p \u001b[39min\u001b[39;00m \u001b[39mself\u001b[39m\u001b[39m.\u001b[39mparameters\u001b[39m.\u001b[39mitems()}\n\u001b[1;32m    225\u001b[0m     )\n",
      "File \u001b[0;32m~/Documents/centuri-hackaton/venv/lib/python3.8/site-packages/magicgui/signature.py:224\u001b[0m, in \u001b[0;36m<dictcomp>\u001b[0;34m(.0)\u001b[0m\n\u001b[1;32m    221\u001b[0m \u001b[39mdef\u001b[39;00m \u001b[39mwidgets\u001b[39m(\u001b[39mself\u001b[39m, app: AppRef \u001b[39m=\u001b[39m \u001b[39mNone\u001b[39;00m) \u001b[39m-\u001b[39m\u001b[39m>\u001b[39m MappingProxyType:\n\u001b[1;32m    222\u001b[0m     \u001b[39m\"\"\"Return mapping from parameters to widgets for all params in Signature.\"\"\"\u001b[39;00m\n\u001b[1;32m    223\u001b[0m     \u001b[39mreturn\u001b[39;00m MappingProxyType(\n\u001b[0;32m--> 224\u001b[0m         {n: p\u001b[39m.\u001b[39;49mto_widget(app) \u001b[39mfor\u001b[39;00m n, p \u001b[39min\u001b[39;00m \u001b[39mself\u001b[39m\u001b[39m.\u001b[39mparameters\u001b[39m.\u001b[39mitems()}\n\u001b[1;32m    225\u001b[0m     )\n",
      "File \u001b[0;32m~/Documents/centuri-hackaton/venv/lib/python3.8/site-packages/magicgui/signature.py:141\u001b[0m, in \u001b[0;36mMagicParameter.to_widget\u001b[0;34m(self, app)\u001b[0m\n\u001b[1;32m    139\u001b[0m value \u001b[39m=\u001b[39m UNSET \u001b[39mif\u001b[39;00m \u001b[39mself\u001b[39m\u001b[39m.\u001b[39mdefault \u001b[39min\u001b[39;00m (\u001b[39mself\u001b[39m\u001b[39m.\u001b[39mempty, TZ_EMPTY) \u001b[39melse\u001b[39;00m \u001b[39mself\u001b[39m\u001b[39m.\u001b[39mdefault\n\u001b[1;32m    140\u001b[0m annotation, options \u001b[39m=\u001b[39m split_annotated_type(\u001b[39mself\u001b[39m\u001b[39m.\u001b[39mannotation)\n\u001b[0;32m--> 141\u001b[0m widget \u001b[39m=\u001b[39m create_widget(\n\u001b[1;32m    142\u001b[0m     name\u001b[39m=\u001b[39;49m\u001b[39mself\u001b[39;49m\u001b[39m.\u001b[39;49mname,\n\u001b[1;32m    143\u001b[0m     value\u001b[39m=\u001b[39;49mvalue,\n\u001b[1;32m    144\u001b[0m     annotation\u001b[39m=\u001b[39;49mannotation,\n\u001b[1;32m    145\u001b[0m     app\u001b[39m=\u001b[39;49mapp,\n\u001b[1;32m    146\u001b[0m     options\u001b[39m=\u001b[39;49moptions,\n\u001b[1;32m    147\u001b[0m )\n\u001b[1;32m    148\u001b[0m widget\u001b[39m.\u001b[39mparam_kind \u001b[39m=\u001b[39m \u001b[39mself\u001b[39m\u001b[39m.\u001b[39mkind\n\u001b[1;32m    149\u001b[0m \u001b[39mreturn\u001b[39;00m widget\n",
      "File \u001b[0;32m~/Documents/centuri-hackaton/venv/lib/python3.8/site-packages/magicgui/widgets/_bases/create_widget.py:96\u001b[0m, in \u001b[0;36mcreate_widget\u001b[0;34m(value, annotation, name, param_kind, label, gui_only, app, widget_type, options, is_result)\u001b[0m\n\u001b[1;32m     94\u001b[0m kwargs\u001b[39m.\u001b[39mupdate(opts)\n\u001b[1;32m     95\u001b[0m kwargs\u001b[39m.\u001b[39mpop(\u001b[39m\"\u001b[39m\u001b[39mwidget_type\u001b[39m\u001b[39m\"\u001b[39m, \u001b[39mNone\u001b[39;00m)\n\u001b[0;32m---> 96\u001b[0m widget \u001b[39m=\u001b[39m wdg_class(\u001b[39m*\u001b[39;49m\u001b[39m*\u001b[39;49mkwargs)\n\u001b[1;32m     97\u001b[0m \u001b[39mif\u001b[39;00m _kind:\n\u001b[1;32m     98\u001b[0m     widget\u001b[39m.\u001b[39mparam_kind \u001b[39m=\u001b[39m _kind\n",
      "File \u001b[0;32m~/Documents/centuri-hackaton/venv/lib/python3.8/site-packages/magicgui/widgets/_concrete.py:167\u001b[0m, in \u001b[0;36mbackend_widget.<locals>.wrapper.<locals>.__init__\u001b[0;34m(self, **kwargs)\u001b[0m\n\u001b[1;32m    165\u001b[0m     widget \u001b[39m=\u001b[39m transform(widget)\n\u001b[1;32m    166\u001b[0m kwargs[\u001b[39m\"\u001b[39m\u001b[39mwidget_type\u001b[39m\u001b[39m\"\u001b[39m] \u001b[39m=\u001b[39m widget\n\u001b[0;32m--> 167\u001b[0m \u001b[39msuper\u001b[39;49m(\u001b[39mcls\u001b[39;49m, \u001b[39mself\u001b[39;49m)\u001b[39m.\u001b[39;49m\u001b[39m__init__\u001b[39;49m(\u001b[39m*\u001b[39;49m\u001b[39m*\u001b[39;49mkwargs)\n",
      "File \u001b[0;32m~/Documents/centuri-hackaton/venv/lib/python3.8/site-packages/magicgui/widgets/_bases/categorical_widget.py:27\u001b[0m, in \u001b[0;36mCategoricalWidget.__init__\u001b[0;34m(self, choices, allow_multiple, **kwargs)\u001b[0m\n\u001b[1;32m     25\u001b[0m     \u001b[39mself\u001b[39m\u001b[39m.\u001b[39m_allow_multiple \u001b[39m=\u001b[39m allow_multiple\n\u001b[1;32m     26\u001b[0m \u001b[39mself\u001b[39m\u001b[39m.\u001b[39m_default_choices \u001b[39m=\u001b[39m choices\n\u001b[0;32m---> 27\u001b[0m \u001b[39msuper\u001b[39;49m()\u001b[39m.\u001b[39;49m\u001b[39m__init__\u001b[39;49m(\u001b[39m*\u001b[39;49m\u001b[39m*\u001b[39;49mkwargs)\n",
      "File \u001b[0;32m~/Documents/centuri-hackaton/venv/lib/python3.8/site-packages/magicgui/widgets/_bases/value_widget.py:45\u001b[0m, in \u001b[0;36mValueWidget.__init__\u001b[0;34m(self, value, bind, nullable, **kwargs)\u001b[0m\n\u001b[1;32m     43\u001b[0m \u001b[39msuper\u001b[39m()\u001b[39m.\u001b[39m\u001b[39m__init__\u001b[39m(\u001b[39m*\u001b[39m\u001b[39m*\u001b[39mkwargs)\n\u001b[1;32m     44\u001b[0m \u001b[39mif\u001b[39;00m value \u001b[39mis\u001b[39;00m \u001b[39mnot\u001b[39;00m UNSET:\n\u001b[0;32m---> 45\u001b[0m     \u001b[39mself\u001b[39m\u001b[39m.\u001b[39mvalue \u001b[39m=\u001b[39m value\n\u001b[1;32m     46\u001b[0m \u001b[39mif\u001b[39;00m \u001b[39mself\u001b[39m\u001b[39m.\u001b[39m_bound_value \u001b[39mis\u001b[39;00m \u001b[39mnot\u001b[39;00m UNSET \u001b[39mand\u001b[39;00m \u001b[39m\"\u001b[39m\u001b[39mvisible\u001b[39m\u001b[39m\"\u001b[39m \u001b[39mnot\u001b[39;00m \u001b[39min\u001b[39;00m kwargs:\n\u001b[1;32m     47\u001b[0m     \u001b[39mself\u001b[39m\u001b[39m.\u001b[39mhide()\n",
      "File \u001b[0;32m~/Documents/centuri-hackaton/venv/lib/python3.8/site-packages/magicgui/widgets/_bases/categorical_widget.py:47\u001b[0m, in \u001b[0;36mCategoricalWidget.value\u001b[0;34m(self, value)\u001b[0m\n\u001b[1;32m     43\u001b[0m         \u001b[39mraise\u001b[39;00m \u001b[39mValueError\u001b[39;00m(\n\u001b[1;32m     44\u001b[0m             \u001b[39mf\u001b[39m\u001b[39m\"\u001b[39m\u001b[39m{\u001b[39;00mvalue\u001b[39m!r}\u001b[39;00m\u001b[39m is not a valid choice. must be in \u001b[39m\u001b[39m{\u001b[39;00m\u001b[39mself\u001b[39m\u001b[39m.\u001b[39mchoices\u001b[39m}\u001b[39;00m\u001b[39m\"\u001b[39m\n\u001b[1;32m     45\u001b[0m         )\n\u001b[1;32m     46\u001b[0m \u001b[39melif\u001b[39;00m value \u001b[39mnot\u001b[39;00m \u001b[39min\u001b[39;00m \u001b[39mself\u001b[39m\u001b[39m.\u001b[39mchoices:\n\u001b[0;32m---> 47\u001b[0m     \u001b[39mraise\u001b[39;00m \u001b[39mValueError\u001b[39;00m(\n\u001b[1;32m     48\u001b[0m         \u001b[39mf\u001b[39m\u001b[39m\"\u001b[39m\u001b[39m{\u001b[39;00mvalue\u001b[39m!r}\u001b[39;00m\u001b[39m is not a valid choice. must be in \u001b[39m\u001b[39m{\u001b[39;00m\u001b[39mself\u001b[39m\u001b[39m.\u001b[39mchoices\u001b[39m}\u001b[39;00m\u001b[39m\"\u001b[39m\n\u001b[1;32m     49\u001b[0m     )\n\u001b[1;32m     50\u001b[0m \u001b[39mreturn\u001b[39;00m ValueWidget\u001b[39m.\u001b[39mvalue\u001b[39m.\u001b[39mfset(\u001b[39mself\u001b[39m, value)\n",
      "\u001b[0;31mValueError\u001b[0m: 'yapic' is not a valid choice. must be in ()"
     ]
    }
   ],
   "source": [
    "@magicgui(call_button=\"execute\")\n",
    "def image_arithmetic(\n",
    "    layerA: ImageData, segmentation: Segmentation=\"yapic\"\n",
    ") -> ImageData:\n",
    "    \"\"\"Add, subtracts, multiplies, or divides to image layers.\"\"\"\n",
    "    return segmentation.value(layerA, layerB)\n",
    "\n",
    "\n",
    "\n",
    "viewer.layers.events.inserted.connect(image_arithmetic.reset_choices)\n",
    "viewer.layers.events.removed.connect(image_arithmetic.reset_choices)"
   ]
  },
  {
   "cell_type": "code",
   "execution_count": 19,
   "metadata": {},
   "outputs": [],
   "source": [
    "import math\n",
    "from enum import Enum\n",
    "from magicgui import magicgui\n",
    "\n",
    "# dropdown boxes are best made by creating an enum\n",
    "class Medium(Enum):\n",
    "    Glass = 1.520\n",
    "    Oil = 1.515\n",
    "    Water = 1.333\n",
    "    Air = 1.0003\n",
    "\n",
    "# decorate your function with the ``@magicgui`` decorator\n",
    "@magicgui(call_button=\"calculate\")\n",
    "def snells_law(aoi=30.0, n1=Medium.Glass, n2=Medium.Water, degrees=True):\n",
    "    aoi = math.radians(aoi) if degrees else aoi\n",
    "    try:\n",
    "        result = math.asin(n1.value * math.sin(aoi) / n2.value)\n",
    "        return math.degrees(result) if degrees else result\n",
    "    except ValueError:\n",
    "        # beyond the critical angle\n",
    "        return \"Total internal reflection!\"\n"
   ]
  },
  {
   "cell_type": "code",
   "execution_count": 17,
   "metadata": {},
   "outputs": [
    {
     "data": {
      "text/plain": [
       "<Image layer 'Layer 2' at 0x7fc26db4dfd0>"
      ]
     },
     "execution_count": 17,
     "metadata": {},
     "output_type": "execute_result"
    }
   ],
   "source": [
    "viewer.add_image(np.random.rand(20, 20), name=\"Layer 1\")\n",
    "viewer.add_image(np.random.rand(20, 20), name=\"Layer 2\")"
   ]
  },
  {
   "cell_type": "code",
   "execution_count": 25,
   "metadata": {},
   "outputs": [
    {
     "data": {
      "text/plain": [
       "<napari._qt.widgets.qt_viewer_dock_widget.QtViewerDockWidget at 0x7fc26d8fb8b0>"
      ]
     },
     "execution_count": 25,
     "metadata": {},
     "output_type": "execute_result"
    }
   ],
   "source": [
    "viewer.window.add_dock_widget(image_arithmetic)"
   ]
  }
 ],
 "metadata": {
  "kernelspec": {
   "display_name": "Python 3.8.13 ('placozoa')",
   "language": "python",
   "name": "python3"
  },
  "language_info": {
   "codemirror_mode": {
    "name": "ipython",
    "version": 3
   },
   "file_extension": ".py",
   "mimetype": "text/x-python",
   "name": "python",
   "nbconvert_exporter": "python",
   "pygments_lexer": "ipython3",
   "version": "3.8.13"
  },
  "orig_nbformat": 4,
  "vscode": {
   "interpreter": {
    "hash": "e5d2bb08a444509dc093275cd7ebe749a8ff1ef1fc396d5742d9248a0f92afe0"
   }
  }
 },
 "nbformat": 4,
 "nbformat_minor": 2
}
