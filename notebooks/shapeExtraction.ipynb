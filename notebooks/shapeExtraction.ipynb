{
 "cells": [
  {
   "cell_type": "markdown",
   "id": "8350e17c",
   "metadata": {},
   "source": [
    "# Necessary imports"
   ]
  },
  {
   "cell_type": "code",
   "execution_count": 11,
   "id": "8ff53201",
   "metadata": {},
   "outputs": [],
   "source": [
    "import numpy as np\n",
    "import matplotlib.pyplot as plt\n",
    "from napari import Viewer\n",
    "from shapeExtraction_Morphology import shapeExtraction\n"
   ]
  },
  {
   "cell_type": "markdown",
   "id": "b8ca6564",
   "metadata": {},
   "source": [
    "# Calling the shape extraction module"
   ]
  },
  {
   "cell_type": "code",
   "execution_count": 8,
   "id": "d3784866",
   "metadata": {},
   "outputs": [],
   "source": [
    "path = '../data/placozoan-movie.tif'\n",
    "mask = shapeExtraction(path)\n"
   ]
  },
  {
   "cell_type": "markdown",
   "id": "4ccdf591",
   "metadata": {},
   "source": [
    "# Visualization with napari"
   ]
  },
  {
   "cell_type": "markdown",
   "id": "06dc8d3a",
   "metadata": {},
   "source": [
    "viewer = Viewer()\n",
    "viewer.add_image(mask)"
   ]
  }
 ],
 "metadata": {
  "kernelspec": {
   "display_name": "Python 3.10.5 ('placozoa')",
   "language": "python",
   "name": "python3"
  },
  "language_info": {
   "codemirror_mode": {
    "name": "ipython",
    "version": 3
   },
   "file_extension": ".py",
   "mimetype": "text/x-python",
   "name": "python",
   "nbconvert_exporter": "python",
   "pygments_lexer": "ipython3",
   "version": "3.10.5"
  },
  "vscode": {
   "interpreter": {
    "hash": "3e5a4ce561b89d4a127e7f6db28ab38efc6794ae35149d8a34bbfddb25b0d4c5"
   }
  }
 },
 "nbformat": 4,
 "nbformat_minor": 5
}
